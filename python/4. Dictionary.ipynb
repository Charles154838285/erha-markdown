{
 "cells": [
  {
   "cell_type": "markdown",
   "metadata": {},
   "source": [
    "# Dictionary #\n",
    "\n",
    "Python dictionary is an unordered collection of items. Each item of a dictionary has a key/value pair."
   ]
  },
  {
   "cell_type": "markdown",
   "metadata": {},
   "source": [
    "> **Variable and function naming conventions**\n",
    ">\n",
    "> - Check [this link](https://www.crained.com/1316/best-practices-for-naming-variables-in-python/) for naming conventions.\n",
    ">\n",
    "> - Do not use keywords and built-in function names.\n",
    ">\n",
    "> - Names should be short, concise and meaningful. For instance, using a, b, c as variable names is not encouraged."
   ]
  },
  {
   "cell_type": "markdown",
   "metadata": {},
   "source": [
    "**Question 1**: create a dictionary with keys consecutive integers from 1 to 7 representing the order of a day in a week. The corresponding values are the weekday names, such as \"Monday\", \"Tuesday\"."
   ]
  },
  {
   "cell_type": "code",
   "execution_count": null,
   "metadata": {},
   "outputs": [],
   "source": [
    "def create_dict()->dict:\n",
    "    '''\n",
    "    Create a dictionary\n",
    "        Parameters:\n",
    "            None\n",
    "        Return:\n",
    "            A dictionary\n",
    "    '''\n",
    "    return"
   ]
  },
  {
   "cell_type": "code",
   "execution_count": null,
   "metadata": {},
   "outputs": [],
   "source": [
    "assert create_dict()=={1:'Monday', 2:'Tuesday'}, 'create_dict() fails'"
   ]
  },
  {
   "cell_type": "markdown",
   "metadata": {},
   "source": [
    "**Question 2**: check the value corresponding a given key in the dictionary. If there is no such key in the dictionary, the returned value should be none."
   ]
  },
  {
   "cell_type": "code",
   "execution_count": null,
   "metadata": {},
   "outputs": [],
   "source": [
    "def check(dicting:dict, key):\n",
    "    '''\n",
    "    '''\n",
    "    return"
   ]
  },
  {
   "cell_type": "code",
   "execution_count": null,
   "metadata": {},
   "outputs": [],
   "source": [
    "dicting = create_dict()\n",
    "assert check(dicting, 1) == 'Monday', \"check(dicting, 1) fails\"\n",
    "assert check(dicting, 0) == None, \"check(dicting, 0) fails\""
   ]
  },
  {
   "cell_type": "markdown",
   "metadata": {},
   "source": [
    "**Question 3**: insert one key value pair into the dictionary. If the key exists in the dictionary and the corresponding value is the same as the one to insert, we do nothing. If the key exists in the dictionary but corresponding value is different, we update the value."
   ]
  },
  {
   "cell_type": "code",
   "execution_count": null,
   "metadata": {},
   "outputs": [],
   "source": [
    "def insert(dicting:dict, key, value)->None:\n",
    "    '''\n",
    "    '''\n",
    "    return"
   ]
  },
  {
   "cell_type": "code",
   "execution_count": null,
   "metadata": {},
   "outputs": [],
   "source": [
    "dicting = create_dict()\n",
    "insert(dicting, 1, 'Monday') == dicting\n",
    "assert dicting[1] == 'Monday', 'insert(dicting, 1, \"Monday\") fails'\n",
    "insert(dicting, 1, 'MONDAY') == dicting\n",
    "assert dicting[1] == 'MONDAY', 'insert(dicting, 1, \"MONDAY\") fails'\n",
    "insert(dicting, 0, 'invalid')\n",
    "assert 0 in dicting and dicting[0]=='invalid', 'insert(dicting, 0, \"invalid\") fails'"
   ]
  },
  {
   "cell_type": "markdown",
   "metadata": {},
   "source": [
    "**Question 4**: delete a key-value pair from the dictionary. If there is no such key in the dictionay, we do nothing. Otherwise, we delete the key and associated value from the dictionary."
   ]
  },
  {
   "cell_type": "code",
   "execution_count": null,
   "metadata": {},
   "outputs": [],
   "source": [
    "def delete(dicting:dict, key)->None:\n",
    "    '''\n",
    "    '''\n",
    "    return"
   ]
  },
  {
   "cell_type": "markdown",
   "metadata": {},
   "source": [
    "**Question 5**: get all keys in the dictionary."
   ]
  },
  {
   "cell_type": "code",
   "execution_count": null,
   "metadata": {},
   "outputs": [],
   "source": [
    "def get_keys(dicting:dict)->set:\n",
    "    '''\n",
    "    '''\n",
    "    return"
   ]
  },
  {
   "cell_type": "markdown",
   "metadata": {},
   "source": [
    "**Question 6**: get all values in the dictionary."
   ]
  },
  {
   "cell_type": "code",
   "execution_count": null,
   "metadata": {},
   "outputs": [],
   "source": [
    "def get_values(dicting:dict)->set:\n",
    "    '''\n",
    "    '''\n",
    "    return"
   ]
  },
  {
   "cell_type": "markdown",
   "metadata": {},
   "source": [
    "**Question 7**: get all key value pairs as tuples arranged in a list."
   ]
  },
  {
   "cell_type": "code",
   "execution_count": null,
   "metadata": {},
   "outputs": [],
   "source": [
    "def get_key_value(dicting:dict)->list:\n",
    "    '''\n",
    "    '''\n",
    "    return"
   ]
  },
  {
   "cell_type": "markdown",
   "metadata": {},
   "source": [
    "**Question 8**: merge to dictionaries."
   ]
  },
  {
   "cell_type": "code",
   "execution_count": 3,
   "metadata": {},
   "outputs": [],
   "source": [
    "def merge(dict1:dict, dict2:dict) ->dict:\n",
    "    '''\n",
    "    Merge two dictionaries to create a new one\n",
    "        Paramaters:\n",
    "            dict1, dict2: any dictionary need merging\n",
    "        Return: a new dictionary consisted above dictionary\n",
    "    >>>merge({'name': 'curry'}, {'address': 'Harbin'})\n",
    "    {'name': 'curry', 'address': 'Harbin'}\n",
    "    '''"
   ]
  },
  {
   "cell_type": "code",
   "execution_count": 4,
   "metadata": {},
   "outputs": [],
   "source": [
    "dicting = {'name': 'curry', 'address': 'Harbin', 'phone': '12138'}\n",
    "assert merge({'name': 'curry'}, {'address': 'Harbin'}) == dicting, 'merge method fails'"
   ]
  },
  {
   "cell_type": "code",
   "execution_count": 8,
   "metadata": {},
   "outputs": [],
   "source": [
    "assert assign_money(10000) == {'Needs': 5000.0, 'Wants': 3000.0, 'Savings': 2000.0},'wrong result'"
   ]
  },
  {
   "cell_type": "markdown",
   "metadata": {},
   "source": [
    "**Question 9**: write a python method to extract the keys from your created dictionary."
   ]
  },
  {
   "cell_type": "code",
   "execution_count": 9,
   "metadata": {},
   "outputs": [],
   "source": [
    "def extract_dict(dictionary:dict, key:list) ->dict:\n",
    "    '''\n",
    "    Extracting the keys from your created dictionary.\n",
    "        Paramaters:\n",
    "            dictionary: a any dict\n",
    "            key: want to extract the keys\n",
    "        Return: the subordinate dict of original dict\n",
    "    >>>extract_dict({'name': 'curry'}, {'address': 'Harbin'}, {'phone': '12138'}, ['name', 'phone'])\n",
    "    {'name': 'curry', 'phone': '12138'}\n",
    "    '''"
   ]
  },
  {
   "cell_type": "code",
   "execution_count": 10,
   "metadata": {},
   "outputs": [],
   "source": [
    "information_dict = {'name': 'curry', 'address': 'Harbin', 'phone': '12138'}\n",
    "assert extract_dict(information_dict, ['name', 'phone']) == {'name': 'curry', 'phone': '12138'},'wrong ressult'"
   ]
  },
  {
   "cell_type": "markdown",
   "metadata": {},
   "source": [
    "**Question 10**: write a python method to delete set of keys from a dictionary."
   ]
  },
  {
   "cell_type": "code",
   "execution_count": 11,
   "metadata": {},
   "outputs": [],
   "source": [
    "def del_dict(dictionary:dict, del_key:list) ->dict:\n",
    "    '''\n",
    "    Deleting set of keys from a dictionary.\n",
    "    Paramaters:\n",
    "    dictionary: a any dict\n",
    "    del_key: want to delete keys from above dictionary\n",
    "    Return: the new dictionary\n",
    "    >>>del_dict({'name': 'curry', 'address': 'Harbin', 'age': 22, 'phone': 12138}, ['Harbin', 22])\n",
    "    {'name': 'curry', 'phone': 12138}\n",
    "    '''"
   ]
  },
  {
   "cell_type": "code",
   "execution_count": 12,
   "metadata": {},
   "outputs": [],
   "source": [
    "information_dict = {'name': 'curry', 'address': 'Harbin', 'age': 22, 'phone': 12138}\n",
    "assert del_dict(information_dict, ['Harbin', 22]) == {'name': 'curry', 'phone': 12138},'wrong result'"
   ]
  },
  {
   "cell_type": "markdown",
   "metadata": {},
   "source": [
    "**Question 11**: write a python method to change specified values in dictionary."
   ]
  },
  {
   "cell_type": "code",
   "execution_count": 13,
   "metadata": {},
   "outputs": [],
   "source": [
    "def change_value(dictionary:dict, value:str, change_value:str) ->dict:\n",
    "    '''\n",
    "    Changing specified values in dictionary\n",
    "    Paramaters:\n",
    "    dictionary: a any nested dictionary\n",
    "    value: the emlement you want to change\n",
    "    change_value: replaced value\n",
    "    Return: the changed dict\n",
    "    >>>change_value(dictionary,'4000','3500')\n",
    "    {'sample1': {'name': 'curry', 'salary': 5000}, 'sample2': {'name': 'james', 'salary': 4500}, 'sample3': {'name': 'durant', 'salary': '3500'}}\n",
    "    '''"
   ]
  },
  {
   "cell_type": "code",
   "execution_count": 14,
   "metadata": {},
   "outputs": [],
   "source": [
    "dictionary = {\n",
    "    'sample1':{'name': 'curry', 'salary': 5000},\n",
    "    'sample2':{'name': 'james', 'salary': 4500},\n",
    "    'sample3':{'name': 'durant', 'salary':4000}\n",
    "}\n",
    "result_dict = {'sample1': {'name': 'curry', 'salary': 5000}, 'sample2': {'name': 'james', 'salary': 4500}, 'sample3': {'name': 'durant', 'salary': '3500'}}\n",
    "assert change_value(dictionary,'4000','3500') == result_dict,'wrong result'"
   ]
  },
  {
   "cell_type": "markdown",
   "metadata": {},
   "source": [
    "**Question 12**: write a python method to convert a given dictionary into a list."
   ]
  },
  {
   "cell_type": "code",
   "execution_count": 15,
   "metadata": {},
   "outputs": [],
   "source": [
    "def convert_dict_list(dictionary:dict) ->list:\n",
    "    '''\n",
    "    Converting a given dictionary into a list.\n",
    "    Paramater: dictionary:a any dictionary\n",
    "    Return : the values in dict by listing\n",
    "    >>>convert_dict_list(color_dct)\n",
    "    ['red', 'green', 'black', 'white', 'black']\n",
    "    '''"
   ]
  },
  {
   "cell_type": "code",
   "execution_count": 16,
   "metadata": {},
   "outputs": [],
   "source": [
    "color_dict = {1 : 'red', 2 : 'green', 3 : 'black', 4 : 'white', 5 : 'black'}\n",
    "assert convert_dict_list(color_dict) == ['red', 'green', 'black', 'white', 'black']"
   ]
  },
  {
   "cell_type": "markdown",
   "metadata": {},
   "source": [
    "**Question 13**: write a python method to count the frequency of values in a given dictionary."
   ]
  },
  {
   "cell_type": "code",
   "execution_count": 17,
   "metadata": {},
   "outputs": [],
   "source": [
    "def count_dict(dictionary:dict) ->dict:\n",
    "    '''\n",
    "    Counting the frequency of values in a given dictionary.\n",
    "    Paramater:\n",
    "    dictionary:the dict's value contain number\n",
    "    Return: a new dict consisted frequency of values in above dictionary\n",
    "    >>>count_dict(number_dict)\n",
    "    {10: 2, 40: 1, 20: 2, 70: 1}\n",
    "    '''"
   ]
  },
  {
   "cell_type": "code",
   "execution_count": 18,
   "metadata": {},
   "outputs": [],
   "source": [
    "number_dict = {'I': 10, 'II': 10, 'III': 40, 'IV': 20, 'V': 70, 'VI': 20}\n",
    "assert count_dict(number_dict) == {10: 2, 40: 1, 20: 2, 70: 1},'wrong result'"
   ]
  }
 ],
 "metadata": {
  "kernelspec": {
   "display_name": "Python 3",
   "language": "python",
   "name": "python3"
  },
  "language_info": {
   "codemirror_mode": {
    "name": "ipython",
    "version": 3
   },
   "file_extension": ".py",
   "mimetype": "text/x-python",
   "name": "python",
   "nbconvert_exporter": "python",
   "pygments_lexer": "ipython3",
   "version": "3.8.3"
  }
 },
 "nbformat": 4,
 "nbformat_minor": 4
}
