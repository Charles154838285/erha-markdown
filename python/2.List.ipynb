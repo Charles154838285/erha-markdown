{
 "cells": [
  {
   "cell_type": "markdown",
   "metadata": {},
   "source": [
    "# List #"
   ]
  },
  {
   "cell_type": "markdown",
   "metadata": {},
   "source": [
    "> **Variable and function naming conventions**\n",
    ">\n",
    "> - Check [this link](https://www.crained.com/1316/best-practices-for-naming-variables-in-python/) for naming conventions.\n",
    ">\n",
    "> - Do not use keywords and built-in function names.\n",
    ">\n",
    "> - Names should be short, concise and meaningful. For instance, using a, b, c as variable names is not encouraged."
   ]
  },
  {
   "cell_type": "code",
   "execution_count": 2,
   "metadata": {},
   "outputs": [],
   "source": [
    "from typing import *"
   ]
  },
  {
   "cell_type": "markdown",
   "metadata": {},
   "source": [
    "**Question 1**: write a python method to check whether there are repeated elements in the given list."
   ]
  },
  {
   "cell_type": "code",
   "execution_count": 5,
   "metadata": {},
   "outputs": [],
   "source": [
    "def check_repeat(listing: List) -> bool:\n",
    "    '''\n",
    "    Check whether there are repeated elements in listing\n",
    "        Parameters:\n",
    "            listing is a list\n",
    "        Return:\n",
    "            a boolean value        \n",
    "    '''\n",
    "    return"
   ]
  },
  {
   "cell_type": "code",
   "execution_count": null,
   "metadata": {},
   "outputs": [],
   "source": [
    "assert check_repeat([]) == False, \"there is no repeatation in an empty list.\"\n",
    "assert check_repeat([1, 2, 3]) == False, \"there is no repeatation in list [1, 2, 3].\"\n",
    "assert check_repeat([1, 2, 2]) == True, \"there are repeatations in list [1, 2, 2].\""
   ]
  },
  {
   "cell_type": "markdown",
   "metadata": {},
   "source": [
    "**Question 2**: write a python method to create a list with the required length containing the required elements. For instance, if the two input arguments are 2 and 3, the created list is $[2,2,2]$."
   ]
  },
  {
   "cell_type": "code",
   "execution_count": 6,
   "metadata": {},
   "outputs": [],
   "source": [
    "def create_list(var, n: int) -> List:\n",
    "    '''\n",
    "    Create a list containing n elements all of which are var\n",
    "        Parameters:\n",
    "            var is of any type.\n",
    "            n is an integer.\n",
    "        Return:\n",
    "            a list\n",
    "    '''\n",
    "    return"
   ]
  },
  {
   "cell_type": "code",
   "execution_count": null,
   "metadata": {},
   "outputs": [],
   "source": [
    "assert create_list(2, 0) == [], \"create_list(2,0) fails.\"\n",
    "assert create_list(2, 3) == [2,2,2], \"create_list(2,3) fails.\"\n",
    "assert create_list('dude', 3) == ['dude', 'dude', 'dude'], \"create_list('dude', 3) fails.\""
   ]
  },
  {
   "cell_type": "markdown",
   "metadata": {},
   "source": [
    "**Question 3**: write a python method to give the smallest, largest, mean and sum of all elements in a given list."
   ]
  },
  {
   "cell_type": "code",
   "execution_count": null,
   "metadata": {},
   "outputs": [],
   "source": [
    "def compute_stats(listing: List) -> List:\n",
    "    '''\n",
    "    Compute the smallest, largest, mean and sum of all elements in the list listing.\n",
    "        Parameters:\n",
    "            listing is a list.\n",
    "        Return:\n",
    "            a tuple containing 4 float numbers.\n",
    "    '''\n",
    "    return"
   ]
  },
  {
   "cell_type": "code",
   "execution_count": null,
   "metadata": {},
   "outputs": [],
   "source": [
    "assert compute_stats([1, 2, 3, 4]) == [1, 4, 2.5, 10], \"compute_stats([1,2,3,4]) == [1,4,2.5,10] fails.\""
   ]
  },
  {
   "cell_type": "markdown",
   "metadata": {},
   "source": [
    "**Question 4**: write a python method to check whether elements are the same or not read from front or back. For instance, $[1,2,2,1]$ reading from front or back gives the same list."
   ]
  },
  {
   "cell_type": "code",
   "execution_count": null,
   "metadata": {},
   "outputs": [],
   "source": [
    "def check_palindrome(listing: List) -> bool:\n",
    "    '''\n",
    "    Check whether listing is a palindrome list.\n",
    "        Parameters:\n",
    "            listing is a list.\n",
    "        Return:\n",
    "            a boolean value.\n",
    "    '''\n",
    "    return    "
   ]
  },
  {
   "cell_type": "code",
   "execution_count": null,
   "metadata": {},
   "outputs": [],
   "source": [
    "assert check_palindrome([1, 2, 2, 1]) == True, \"check_palindrome([1, 2, 2, 1]) fails.\"\n",
    "assert check_palindrome([1, 2, 3, 1]) == False, \"check_palindrome([1, 2, 3, 1]) fails.\""
   ]
  },
  {
   "cell_type": "markdown",
   "metadata": {},
   "source": [
    "**Question 5**: write a python method to print all elements in the given list with comma separated."
   ]
  },
  {
   "cell_type": "code",
   "execution_count": null,
   "metadata": {},
   "outputs": [],
   "source": [
    "def print_list(listing: List)-> None:\n",
    "    '''\n",
    "    Print all elements in listing with comma separated.\n",
    "        Parameters:\n",
    "            listing is a list\n",
    "        Return:\n",
    "            There is no returned value.\n",
    "    '''"
   ]
  },
  {
   "cell_type": "markdown",
   "metadata": {},
   "source": [
    "**Question 6**: write a python method taking into a list and an element as input. The returned value is a new list with the given element appending to the tail of the given list. Please note that the input list is forbidden to be changed."
   ]
  },
  {
   "cell_type": "code",
   "execution_count": 7,
   "metadata": {},
   "outputs": [],
   "source": [
    "def appending(listing: List, var) -> List:\n",
    "    '''\n",
    "    Appending an element to a list.\n",
    "        Parameters:\n",
    "            listing is a list.\n",
    "            var is an element of any type.\n",
    "        Return:\n",
    "            a list\n",
    "    '''\n",
    "    return"
   ]
  },
  {
   "cell_type": "code",
   "execution_count": null,
   "metadata": {},
   "outputs": [],
   "source": [
    "listing = [1, 2, 3]\n",
    "assert appending(listing, 4) == [1, 2, 3, 4], \"appending([1, 2, 3], 4) fails.\"\n",
    "assert listing == [1, 2, 3], \"listing has been changed.\""
   ]
  },
  {
   "cell_type": "markdown",
   "metadata": {},
   "source": [
    "**Question 7**: write a python method taking into a list and an element as input. The method append the element to the left of the given list."
   ]
  },
  {
   "cell_type": "code",
   "execution_count": null,
   "metadata": {},
   "outputs": [],
   "source": [
    "def appending2(listing: list, var)->None:\n",
    "    '''\n",
    "    Appending an element to a list.\n",
    "        Parameters:\n",
    "            listing is a list.\n",
    "            var is an element of any type.\n",
    "        Return:\n",
    "            there is no returned value.\n",
    "    '''\n",
    "    return"
   ]
  },
  {
   "cell_type": "code",
   "execution_count": null,
   "metadata": {},
   "outputs": [],
   "source": [
    "listing = [1, 2, 3]\n",
    "appending(listing, 4)\n",
    "assert listing == [4, 1, 2, 3], \"appending(listing, 4) fails.\""
   ]
  },
  {
   "cell_type": "markdown",
   "metadata": {},
   "source": [
    "**Question 8**: write a python method to find the median value in a list.If there is an even number, the average of the two middle values is usually teken as the median.The sort function is sorted(). "
   ]
  },
  {
   "cell_type": "code",
   "execution_count": 3,
   "metadata": {},
   "outputs": [],
   "source": [
    "def list_median(listing: List) -> float:\n",
    "    '''\n",
    "    Compute the median value of a elements in listing.\n",
    "         Parameters:\n",
    "             listing is a list.\n",
    "         Return:\n",
    "             an element.\n",
    "    '''\n",
    "    return"
   ]
  },
  {
   "cell_type": "code",
   "execution_count": 4,
   "metadata": {},
   "outputs": [],
   "source": [
    "assert my_median([1, 2, 5, 4]) == 3, 'my_median([1, 2, 5, 4]) fails.'\n",
    "assert my_median([1, 2, 5, 4, 3]) == 3, 'my_median([1, 2, 5, 4, 3]) fails.'"
   ]
  },
  {
   "cell_type": "markdown",
   "metadata": {},
   "source": [
    "**Question 9**: write a python method to output a list of numbers in reverse order without changing the original numbers in the list."
   ]
  },
  {
   "cell_type": "code",
   "execution_count": 8,
   "metadata": {},
   "outputs": [],
   "source": [
    "def list_reverse(listing: List) -> List:\n",
    "    '''\n",
    "    Reverse elements in a list.\n",
    "        Parameters:\n",
    "            listing is a list.\n",
    "        Reuturn:\n",
    "            a list\n",
    "    '''\n",
    "    return"
   ]
  },
  {
   "cell_type": "code",
   "execution_count": null,
   "metadata": {},
   "outputs": [],
   "source": [
    "listing = [1,3,2,4]\n",
    "assert list_reverse(listing) == [4,2,3,1], \"list_reverse([1,3,2,4]) fails.\"\n",
    "assert listing == [1,3,2,4], \"listing has been changed.\""
   ]
  },
  {
   "cell_type": "markdown",
   "metadata": {},
   "source": [
    "**Question 10**: write a python method to reverse elements in the given list in place."
   ]
  },
  {
   "cell_type": "code",
   "execution_count": null,
   "metadata": {},
   "outputs": [],
   "source": [
    "def list_reverse2(listing: List) -> None:\n",
    "    '''\n",
    "    Reverse elements in a list.\n",
    "        Parameters:\n",
    "            listing is a list.\n",
    "        Reuturn:\n",
    "            there is no return.\n",
    "    '''\n",
    "    return   "
   ]
  },
  {
   "cell_type": "code",
   "execution_count": null,
   "metadata": {},
   "outputs": [],
   "source": [
    "listing = [1, 3, 2, 4]\n",
    "list_reverse2(listing)\n",
    "assert listing == [4, 2, 3, 1], \"list_reverse2 method fails.\""
   ]
  },
  {
   "cell_type": "markdown",
   "metadata": {},
   "source": [
    "**Question 11**: write a python method to double all elements in the list. Please complete this task in only one line."
   ]
  },
  {
   "cell_type": "code",
   "execution_count": null,
   "metadata": {},
   "outputs": [],
   "source": [
    "def list_double(listing: List) -> List:\n",
    "    '''\n",
    "    Double all elements in the list listing.\n",
    "        Parameters:\n",
    "            listing is a list.\n",
    "        Return:\n",
    "            a list.\n",
    "    '''\n",
    "    return"
   ]
  },
  {
   "cell_type": "code",
   "execution_count": null,
   "metadata": {},
   "outputs": [],
   "source": [
    "listing = [1, 2, 3]\n",
    "assert list_double(listing) == [2, 4, 6], \"list_double([1,2,3]) fails.\"\n",
    "assert listing == [1, 2, 3], \"listing has been changed.\""
   ]
  },
  {
   "cell_type": "markdown",
   "metadata": {},
   "source": [
    "**Question 12**: write a python method to compute the polynomial function value. Polynomial coefficients are provided in a list. For instance, the coefficient of the polynomial $a_2x^2 + a_1x+a_0$ is provided as $[a_2, a_1, a_0]$."
   ]
  },
  {
   "cell_type": "code",
   "execution_count": null,
   "metadata": {},
   "outputs": [],
   "source": [
    "def compute_polynomial(listing:List, x:float)->float:\n",
    "    '''\n",
    "    Compute the polynomial function value.\n",
    "        Parameters:\n",
    "            listing is a list of float numbers representing coefficients for a polynomial.\n",
    "            x is a float number.\n",
    "        Return:\n",
    "            a float number\n",
    "    '''\n",
    "    return"
   ]
  },
  {
   "cell_type": "code",
   "execution_count": null,
   "metadata": {},
   "outputs": [],
   "source": [
    "assert compute_polynomial([1, 1], 2) == 3, \"compute_polynomial([1, 1], 2) fails.\"\n",
    "assert compute_polynomial([1, 1, 1, 1], 1) == 4, \"compute_polynomial([1, 1, 1, 1], 1) fails.\""
   ]
  },
  {
   "cell_type": "markdown",
   "metadata": {},
   "source": [
    "**Question 13**: write a python method to check whether there are two elements in the list whose sum is equal to the given number. "
   ]
  },
  {
   "cell_type": "code",
   "execution_count": null,
   "metadata": {},
   "outputs": [],
   "source": [
    "def check_sum(listing: List, var: float)-> bool:\n",
    "    '''\n",
    "    Check whether in listing there are two elements whose sum is equal to var.\n",
    "        Parameters:\n",
    "            listing is a list containing numerical numbers.\n",
    "            var is a float number.\n",
    "        Return:\n",
    "            a boolean value.\n",
    "    '''\n",
    "    return"
   ]
  },
  {
   "cell_type": "code",
   "execution_count": null,
   "metadata": {},
   "outputs": [],
   "source": [
    "assert check_sum([1, 2, 3, 4, 5], 9) == True, \"check_sum([1, 2, 3, 4, 5], 9) fails.\"\n",
    "assert check_sum([1, 2, 3, 4, 5], 10) == False, \"check_sum([1, 2, 3, 4, 5], 10) fails.\""
   ]
  },
  {
   "cell_type": "markdown",
   "metadata": {},
   "source": [
    "**Question 14**: write a python method to select two elements in a given list whose sum is nearest to the given number. The selected two elements are arrange into a list."
   ]
  },
  {
   "cell_type": "code",
   "execution_count": null,
   "metadata": {},
   "outputs": [],
   "source": [
    "def give_sum(listing:list, var:float) -> list:\n",
    "    '''\n",
    "    Select two elements in listing whose sum is nearest to var.\n",
    "        Parameters:\n",
    "            listing is a list containing numerical numbers.\n",
    "            var is a float number.\n",
    "        Return:\n",
    "            a list containing two elements.\n",
    "    '''\n",
    "    return"
   ]
  },
  {
   "cell_type": "code",
   "execution_count": null,
   "metadata": {},
   "outputs": [],
   "source": [
    "assert give_sum([1, 2, 3, 4, 5], 10) == [4, 5], \"check_sum([1, 2, 3, 4, 5], 10) fails.\"\n",
    "assert give_sum([1, 2, 3, 4, 5], 3) == [1, 2], \"check_sum([1, 2, 3, 4, 5], 3) fails.\""
   ]
  },
  {
   "cell_type": "markdown",
   "metadata": {},
   "source": [
    "**Question 15**: write python method to merge a list into a ascending sorted list. The merged list is also sorted in ascending order. Note that the two input list are forbidden to change."
   ]
  },
  {
   "cell_type": "code",
   "execution_count": null,
   "metadata": {},
   "outputs": [],
   "source": [
    "def merge(listing1:List, listing2:List)->List:\n",
    "    '''\n",
    "    Merge listing1 and listing2 to get a sorted list in ascending order.\n",
    "        Parameters:\n",
    "            listing1 is a list with elements sorted in ascending order.\n",
    "            listing2 is a list with elements not possibly sorted.\n",
    "        Return:\n",
    "            a list with elements sorted in ascending order.\n",
    "    '''\n",
    "    return"
   ]
  },
  {
   "cell_type": "code",
   "execution_count": null,
   "metadata": {},
   "outputs": [],
   "source": [
    "listing1 = [1, 3, 5, 7, 9]\n",
    "listing2 = [4, 2, 6]\n",
    "assert merge(listing1, listing2) == [1, 2, 3, 4, 5, 6, 7, 9], \"merge(listing1, listing2) fails.\"\n",
    "assert listing1 == [1, 3, 5, 7, 9], \"listing1 has been changed.\""
   ]
  },
  {
   "cell_type": "markdown",
   "metadata": {},
   "source": [
    "**Question 16**: write a python method to flatten a list of lists into a list."
   ]
  },
  {
   "cell_type": "code",
   "execution_count": 10,
   "metadata": {},
   "outputs": [],
   "source": [
    "def flatten(listing: List) -> List:\n",
    "    '''\n",
    "    Flatten a list of lists into a list.\n",
    "        Parameters:\n",
    "            listing is a list of lists.\n",
    "        Return:\n",
    "            a list\n",
    "    '''\n",
    "    return"
   ]
  },
  {
   "cell_type": "code",
   "execution_count": null,
   "metadata": {},
   "outputs": [],
   "source": [
    "listing = [[1, 2], [3, 4]]\n",
    "assert flatten(listing) == [1, 2, 3, 4], \"flatten(listing) fails.\"\n",
    "assert listing === [[1, 2], [3, 4]], \"listing has been changed.\""
   ]
  },
  {
   "cell_type": "markdown",
   "metadata": {},
   "source": [
    "**Question 17**: write a python method to find the $k$th smallest elements in two sorted lists."
   ]
  },
  {
   "cell_type": "code",
   "execution_count": null,
   "metadata": {},
   "outputs": [],
   "source": [
    "def k_smallest(listing1: list, listing2: list) -> int:\n",
    "    '''\n",
    "    Find the kth smallest elements in two sorted lists.\n",
    "        Parameters:\n",
    "            listing1 is a list sorted in ascending order.\n",
    "            listing2 is a list sorted in ascending order.\n",
    "        Return:\n",
    "            an element.\n",
    "    \n",
    "    '''\n",
    "    return"
   ]
  },
  {
   "cell_type": "code",
   "execution_count": null,
   "metadata": {},
   "outputs": [],
   "source": [
    "listing1 = [1, 3, 5, 7, 9]\n",
    "listing2 = [2, 4, 6, 8, 10]\n",
    "assert k_smallest(listing1, listing2, 6) == 6, \"k_smallest(listing1, listing2, 6) fails.\""
   ]
  }
 ],
 "metadata": {
  "kernelspec": {
   "display_name": "Python 3",
   "language": "python",
   "name": "python3"
  },
  "language_info": {
   "codemirror_mode": {
    "name": "ipython",
    "version": 3
   },
   "file_extension": ".py",
   "mimetype": "text/x-python",
   "name": "python",
   "nbconvert_exporter": "python",
   "pygments_lexer": "ipython3",
   "version": "3.8.3"
  }
 },
 "nbformat": 4,
 "nbformat_minor": 4
}
