{
 "cells": [
  {
   "cell_type": "markdown",
   "metadata": {},
   "source": [
    "# Numpy #\n",
    "\n",
    "NumPy, which stands for Numerical Python, is a library consisting of multidimensional array objects and a collection of routines for processing those arrays. Using NumPy, mathematical and logical operations on arrays can be performed. Check [this website](https://www.tutorialspoint.com/numpy/index.htm) for numpy tutorials."
   ]
  },
  {
   "cell_type": "code",
   "execution_count": 1,
   "metadata": {},
   "outputs": [],
   "source": [
    "import numpy as np"
   ]
  },
  {
   "cell_type": "markdown",
   "metadata": {},
   "source": [
    " **Question 1**: write a numpy program to convert a list of numeric value into a one-dimensional numpy array then create a 3x3 matrix"
   ]
  },
  {
   "cell_type": "code",
   "execution_count": 2,
   "metadata": {},
   "outputs": [],
   "source": [
    "def list_2_numpy(listing:list) ->np.ndarray:\n",
    "    '''\n",
    "   Converting a list of numeric value into a one-dimensional numpy array then creating a 3x3 matrix and Printting it.\n",
    "       Paramaters: \n",
    "           listing: a list contain 9 number\n",
    "       Return: a 3 by 3 numpy array\n",
    "   >>>list_2_numpy((range(1,10)))\n",
    "   [[1 2 3]\n",
    "    [4 5 6]\n",
    "    [7 8 9]]\n",
    "    '''\n",
    "    matrix = np.array(listing).reshape(3,3)\n",
    "    return matrix"
   ]
  },
  {
   "cell_type": "code",
   "execution_count": 3,
   "metadata": {},
   "outputs": [],
   "source": [
    "assert (list_2_numpy(range(1,10)) == np.array([[1, 2, 3],[4, 5, 6],[7, 8, 9]])).all() ,\"assert list_2_numpy(range(1,10)) fails.\""
   ]
  },
  {
   "cell_type": "markdown",
   "metadata": {},
   "source": [
    " **Question 2**:: write a numpy program to create a vector of size 10 and update sixth value to 11."
   ]
  },
  {
   "cell_type": "code",
   "execution_count": 4,
   "metadata": {},
   "outputs": [],
   "source": [
    "def change_vector() ->np.ndarray:\n",
    "    '''\n",
    "    Creating a vector of size 10 and update sixth value to 11.\n",
    "    Paramater:None\n",
    "    Print:the vector that the sixth value is 11\n",
    "    >>>change_vector()\n",
    "    [ 0  0  0  0  0  0 11  0  0  0]\n",
    "    '''\n",
    "    vector = np.linspace(0,0,10)\n",
    "    vector[6] = 11\n",
    "    return np.array(vector)"
   ]
  },
  {
   "cell_type": "code",
   "execution_count": 5,
   "metadata": {},
   "outputs": [],
   "source": [
    "assert (change_vector() == np.array([0, 0, 0, 0, 0, 0, 11, 0, 0, 0])).all(),\"assert change_vector fails.\""
   ]
  },
  {
   "cell_type": "markdown",
   "metadata": {},
   "source": [
    " **Question 3**: write a numpy program to create an array with values ranging from 10 to 20 then reverse the array."
   ]
  },
  {
   "cell_type": "code",
   "execution_count": 6,
   "metadata": {},
   "outputs": [],
   "source": [
    "def reverse_array() ->np.ndarray:\n",
    "    '''\n",
    "    Creating an array with values ranging from 10 to 20 then reverse the array.\n",
    "    Paramater:None\n",
    "    Print:the array reversed array with values ranging from 10 to 20\n",
    "    >>>reverse_array()\n",
    "    [20 19 18 17 16 15 14 13 12 11 10]\n",
    "    '''\n",
    "    array = np.arange(10,21,1)\n",
    "    m = list(array)\n",
    "    m.reverse()\n",
    "    n = np.array(m)\n",
    "    return n"
   ]
  },
  {
   "cell_type": "code",
   "execution_count": 7,
   "metadata": {},
   "outputs": [],
   "source": [
    "assert (reverse_array() == np.array([20,19,18,17,16,15,14,13,12,11,10])).all(),\"assert reverse_array() fails.\""
   ]
  },
  {
   "cell_type": "markdown",
   "metadata": {},
   "source": [
    " **Question 4**: write a numpy program to multiply the values of two given vectors."
   ]
  },
  {
   "cell_type": "code",
   "execution_count": 8,
   "metadata": {},
   "outputs": [],
   "source": [
    "def my_multiply(vector1:np.ndarray, vector2:np.ndarray) ->np.ndarray:\n",
    "    '''\n",
    "    Multiplying the values of every element of two given vectors.\n",
    "    Paramater:\n",
    "    vector1,vector2: any ndarray\n",
    "    Return: product of inner element of above vectors \n",
    "    >>>my_multiply(np.array([1,3,5]), np.array([2,4,6]))\n",
    "    [ 2 12 30]\n",
    "    '''\n",
    "    x = vector1*vector2\n",
    "    return x"
   ]
  },
  {
   "cell_type": "code",
   "execution_count": 9,
   "metadata": {},
   "outputs": [],
   "source": [
    "vector1 = np.array([1,3,5])\n",
    "vector2 = np.array([2,4,6])\n",
    "x = my_multiply(vector1, vector2)\n",
    "assert (x == np.array([2,12,30])).all,\"assert fails.\""
   ]
  },
  {
   "cell_type": "markdown",
   "metadata": {},
   "source": [
    " **Question 5**: write a numpy program to calculate the dot product of two vectors."
   ]
  },
  {
   "cell_type": "code",
   "execution_count": 10,
   "metadata": {},
   "outputs": [],
   "source": [
    "def my_dot(vector1:np.ndarray, vector2:np.ndarray) ->int:\n",
    "    '''\n",
    "    Calculating the dot product of two vectors.\n",
    "    Paramater:\n",
    "    vector1,vector2: any ndarray\n",
    "    Return: dot product\n",
    "    >>>my_dot(np.array([1,3,5]), np.array([2,4,6]))\n",
    "    44\n",
    "    '''\n",
    "    x = np.dot(vector1,vector2)\n",
    "    return x"
   ]
  },
  {
   "cell_type": "code",
   "execution_count": 11,
   "metadata": {},
   "outputs": [],
   "source": [
    "vector1 = np.array([1,3,5])\n",
    "vector2 = np.array([2,4,6])\n",
    "x = my_dot(vector1, vector2)\n",
    "assert x == 44,\"assert fails.\""
   ]
  },
  {
   "cell_type": "markdown",
   "metadata": {},
   "source": [
    " **Question 6**: write a numpy program to calculate the cross product of two vectors."
   ]
  },
  {
   "cell_type": "code",
   "execution_count": 12,
   "metadata": {},
   "outputs": [],
   "source": [
    "def my_cross(vector1:np.ndarray, vector2:np.ndarray) ->np.ndarray:\n",
    "    '''\n",
    "    Calculating the cross product of two vectors.\n",
    "    Paramater:\n",
    "    vector1,vector2: any ndarray\n",
    "    Returns: two cross products of different order of vectors\n",
    "    >>>my_cross(np.array([1,3,5]), np.array([2,4,6]))\n",
    "    (array([-2,  4, -2]), array([ 2, -4,  2]))\n",
    "    '''\n",
    "    result1 = np.cross(vector1, vector2)\n",
    "    result2 = np.cross(vector2, vector1)\n",
    "    return result1, result2"
   ]
  },
  {
   "cell_type": "code",
   "execution_count": 13,
   "metadata": {},
   "outputs": [],
   "source": [
    "vector1 = np.array([1,3,5])\n",
    "vector2 = np.array([2,4,6])\n",
    "x = my_cross(vector1, vector2)\n",
    "assert (x[0] == np.array([-2,4,-2])).all(),\"assert result1 fails\"\n",
    "assert (x[1] == np.array([2,-4,2])).all(),\"assert result2 fails.\""
   ]
  },
  {
   "cell_type": "markdown",
   "metadata": {},
   "source": [
    " **Question 7**: write a numpy program to determine the intersection of two straight lines.Using .any() fuction judge the element of array weather is zero."
   ]
  },
  {
   "cell_type": "code",
   "execution_count": 14,
   "metadata": {},
   "outputs": [],
   "source": [
    "def is_intersection(a:tuple, b:tuple, c:tuple, d:tuple) ->bool:\n",
    "    '''\n",
    "    Determining the intersection of two straight lines.\n",
    "    Paramaters: four points in space that doesn't coincide\n",
    "    Return: if intersection\n",
    "    >>>is_intersection((1,2,3), (0,1,2), (2,3,2), (0,0,0))\n",
    "    False\n",
    "    '''\n",
    "    ab = np.array(a) - np.array(b)\n",
    "    cd = np.array(c) - np.array(d)\n",
    "    ad = np.array(a) - np.array(d)\n",
    "    m = np.cross(ab,cd)\n",
    "    n = np.dot(ad,m)\n",
    "    return n == 0"
   ]
  },
  {
   "cell_type": "code",
   "execution_count": 15,
   "metadata": {},
   "outputs": [],
   "source": [
    "x = is_intersection((1,2,3), (0,1,2), (2,3,2), (0,0,0))\n",
    "assert x == False,\"assert fails.\""
   ]
  },
  {
   "cell_type": "markdown",
   "metadata": {},
   "source": [
    " **Question 8**: write a numpy program to compute the inverse of a given matrix."
   ]
  },
  {
   "cell_type": "code",
   "execution_count": 16,
   "metadata": {},
   "outputs": [],
   "source": [
    "def inverse_matrix(matrix:np.ndarray) ->np.ndarray:\n",
    "    '''\n",
    "    Computing the inverse of a given matrix.\n",
    "    Paramater:any 2-dim square array\n",
    "    Return: the inverse of above array\n",
    "    >>>inverse_matrix(np.array([[1,0,0], [0,2,0], [0,0,4]]))\n",
    "    [[1.   0.   0.  ]\n",
    "    [0.   0.5  0.  ]\n",
    "    [0.   0.   0.25]]\n",
    "    '''\n",
    "    return np.linalg.inv(matrix)"
   ]
  },
  {
   "cell_type": "code",
   "execution_count": 17,
   "metadata": {},
   "outputs": [],
   "source": [
    "matrix = np.array([[1,0,0], [0,2,0], [0,0,4]])\n",
    "x = inverse_matrix(matrix)\n",
    "assert (x == np.array([[1,0,0],[0,0.5,0],[0,0,0.25]])).all(),\"assert fails.\""
   ]
  },
  {
   "cell_type": "markdown",
   "metadata": {},
   "source": [
    " **Question 9**: write a numpy program to compute the multiplication of two matrixes then compute the determinant of a given square array."
   ]
  },
  {
   "cell_type": "code",
   "execution_count": 18,
   "metadata": {},
   "outputs": [],
   "source": [
    "def mult_matrix(matrix1:np.ndarray, matrix2:np.ndarray) ->int:\n",
    "    '''\n",
    "    Computing the multiplication of two matrixes and compute the determinant of a given square array.\n",
    "    Paramaters:\n",
    "    matrix1,matrix2: any 2-dim square ndarray\n",
    "    Return: the determinant of above result\n",
    "    >>>mult_matrix(np.array([[1,0], [0,1]]), np.array([[2,3], [3,2]]))\n",
    "    -5\n",
    "    '''\n",
    "    x = np.dot(matrix1,matrix2)\n",
    "    return int(np.linalg.det(x))"
   ]
  },
  {
   "cell_type": "code",
   "execution_count": 19,
   "metadata": {},
   "outputs": [],
   "source": [
    "matrix1 = np.array([[1,0], [0,1]])\n",
    "matrix2 = np.array([[2,3], [3,2]])\n",
    "x = mult_matrix(matrix1, matrix2)\n",
    "assert x == -5,\"assert fails.\""
   ]
  },
  {
   "cell_type": "markdown",
   "metadata": {},
   "source": [
    " **Question 10**: write a numpy program to compute the rank, eigenvalues and eigenvectors of a given square matrix transpose."
   ]
  },
  {
   "cell_type": "code",
   "execution_count": 2,
   "metadata": {},
   "outputs": [],
   "source": [
    "def rank_eig(matrix:np.ndarray) ->(int, np.ndarray):\n",
    "    '''\n",
    "    Computing the rank, eigenvalues and eigenvectors of a given square matrix transpose.\n",
    "    Paramater:matrix: any 2-dim square array\n",
    "    Return :tuple contain int ,vector consisted eigenvalues and array consisted eigenvectors\n",
    "    >>>rank_eig(np.array([[1,0,0], [0,1,0], [0,0,1]]))\n",
    "    (3, array([1., 1., 1.]),\n",
    "    array([[1., 0., 0.],\n",
    "           [0., 1., 0.],\n",
    "           [0., 0., 1.]]))\n",
    "    '''\n",
    "    matrix_ = matrix.T\n",
    "    rank = np.linalg.matrix_rank(matrix_) # linear algebra\n",
    "    eigenvalue,eigenvector = np.linalg.eig(matrix_)\n",
    "    return rank,eigenvalue,eigenvector"
   ]
  },
  {
   "cell_type": "code",
   "execution_count": 4,
   "metadata": {},
   "outputs": [],
   "source": [
    "matrix = np.array([[1,0,0], [0,1,0], [0,0,1]])\n",
    "rank, eigenvalues, eigenvectors =  rank_eig(matrix)\n",
    "assert rank == 3,\"assert rank == 3 falis.\"\n",
    "assert (eigenvalues == np.array([1, 1, 1])).all(),\"assert eigenvalues == np.array([1, 1, 1]) fails.\"\n",
    "assert (eigenvectors == np.array([[1, 0, 0],[0, 1, 0],[0, 0, 1]])).all(),\"assert (eigenvectors == np.array([1, 0, 0],[0, 1, 1],[0, 0, 1])).all() fails. \""
   ]
  },
  {
   "cell_type": "markdown",
   "metadata": {},
   "source": [
    " **Question 11**: write a numpy program to generate any random numbers from the normal distribution."
   ]
  },
  {
   "cell_type": "code",
   "execution_count": 24,
   "metadata": {},
   "outputs": [],
   "source": [
    "def normal(size:int) ->np.ndarray:\n",
    "    '''\n",
    "    Generating any random numbers from the normal distribution.\n",
    "    Paramater:size:you want to generate the total of random numbers\n",
    "    Return: random numbers from the normal distribution\n",
    "    >>>normal(10)\n",
    "    [ 1.09344946 -0.57605956 -0.4791958   0.39384737 -0.85581635  0.08555192\n",
    "     -0.63934403 -0.92785404 -0.25639973 -1.53849967]\n",
    "    '''\n",
    "    return np.random.randn(size)"
   ]
  },
  {
   "cell_type": "code",
   "execution_count": 25,
   "metadata": {},
   "outputs": [
    {
     "name": "stdout",
     "output_type": "stream",
     "text": [
      "[-0.21074627  0.52034712 -0.85091965  0.1785952  -0.42785533 -0.97653807\n",
      " -0.03327721  0.08934262  0.72441002 -0.47227818]\n"
     ]
    }
   ],
   "source": [
    "x = normal(10)\n",
    "print(x)"
   ]
  },
  {
   "cell_type": "markdown",
   "metadata": {},
   "source": [
    " **Question 12**: write a numpy program to simulate to flip coin."
   ]
  },
  {
   "cell_type": "code",
   "execution_count": 26,
   "metadata": {},
   "outputs": [],
   "source": [
    "def binomial(test_number:int, probability:float, size:int) ->np.ndarray:\n",
    "    '''\n",
    "    Generating any random numbers from the binomial distribution.\n",
    "    Paramaters:\n",
    "    test_number: frequency of testing\n",
    "    probability: probability that the coin comes up heads\n",
    "    size: quantity of output\n",
    "    >>>binomial(10, 0.5, 10)\n",
    "    [4 3 3 5 5 5 5 0 3 5]\n",
    "    '''\n",
    "    return np.random.binomial(test_number, probability, size)"
   ]
  },
  {
   "cell_type": "code",
   "execution_count": 27,
   "metadata": {},
   "outputs": [
    {
     "name": "stdout",
     "output_type": "stream",
     "text": [
      "[4 4 2 3 6 3 7 6 3 6]\n"
     ]
    }
   ],
   "source": [
    "x = binomial(10, 0.5, 10)\n",
    "print(x)"
   ]
  },
  {
   "cell_type": "markdown",
   "metadata": {},
   "source": [
    " **Question 13**: write a numpy program to generate a array with random values."
   ]
  },
  {
   "cell_type": "code",
   "execution_count": 28,
   "metadata": {},
   "outputs": [],
   "source": [
    "def random_matrix(row, column):\n",
    "    '''\n",
    "    Generating a array with random values.\n",
    "    Paramater: the row and colum of above random matrix\n",
    "    Return: the matrix with random values\n",
    "    >>>random_matrix(2,3)\n",
    "    [[0.89840678 0.99005609 0.78972744]\n",
    "    [0.6718429  0.56528883 0.33653837]]\n",
    "    '''\n",
    "    return np.random.rand(row,column)"
   ]
  },
  {
   "cell_type": "code",
   "execution_count": 29,
   "metadata": {},
   "outputs": [
    {
     "name": "stdout",
     "output_type": "stream",
     "text": [
      "[[0.67171152 0.48708878 0.06069042]\n",
      " [0.5155915  0.76248784 0.97168034]]\n"
     ]
    }
   ],
   "source": [
    "x = random_matrix(2,3)\n",
    "print(x)"
   ]
  },
  {
   "cell_type": "markdown",
   "metadata": {},
   "source": [
    " **Question 14**: write a numpy program to simulate the relation among material, salary and yield"
   ]
  },
  {
   "cell_type": "code",
   "execution_count": 30,
   "metadata": {},
   "outputs": [],
   "source": [
    "def covariance(material:np.ndarray, salary:np.ndarray, output:np.ndarray) ->np.ndarray:\n",
    "    '''\n",
    "    Calculating the covariance matrix.\n",
    "    Paramaters:\n",
    "    material,salary,output: 1dim array\n",
    "    Return: matrix consisted convariance\n",
    "    >>>covariance([10,20,15], [30,40,20], [20,30,25])\n",
    "    [[ 25.  25.  25.]\n",
    "     [ 25. 100.  25.]\n",
    "     [ 25.  25.  25.]]\n",
    "    '''\n",
    "    return np.cov([material, salary,output])"
   ]
  },
  {
   "cell_type": "code",
   "execution_count": 31,
   "metadata": {},
   "outputs": [
    {
     "name": "stdout",
     "output_type": "stream",
     "text": [
      "[[ 25.  25.  25.]\n",
      " [ 25. 100.  25.]\n",
      " [ 25.  25.  25.]]\n"
     ]
    }
   ],
   "source": [
    "material = np.array([10,20,15])\n",
    "salary = np.array([30,40,20])\n",
    "output = np.array([20,30,25])\n",
    "x = covariance(material, salary, output)\n",
    "print(x)"
   ]
  }
 ],
 "metadata": {
  "kernelspec": {
   "display_name": "Python 3",
   "language": "python",
   "name": "python3"
  },
  "language_info": {
   "codemirror_mode": {
    "name": "ipython",
    "version": 3
   },
   "file_extension": ".py",
   "mimetype": "text/x-python",
   "name": "python",
   "nbconvert_exporter": "python",
   "pygments_lexer": "ipython3",
   "version": "3.8.3"
  }
 },
 "nbformat": 4,
 "nbformat_minor": 4
}
