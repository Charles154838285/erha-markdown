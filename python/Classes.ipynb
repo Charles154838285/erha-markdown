{
 "cells": [
  {
   "cell_type": "markdown",
   "metadata": {},
   "source": [
    "## Class and Object ##"
   ]
  },
  {
   "cell_type": "markdown",
   "metadata": {},
   "source": [
    "In any programming language, there are some data types, such as interger, float, double, string. Users are able to define their customized data type. Classes are used for user to define the customized data type. In each class, users need to define the **data** and **methods**. Unlike conventional data type, besides data, there are methods in classes. Moreover, class could have one than one variables representing the data. Unlike the procedural programming, in which a function reads input data and by processing these data gives an output, methods in classes may use the data in classes to run the method. \n",
    "\n",
    "The following one is an example for classes"
   ]
  },
  {
   "cell_type": "code",
   "execution_count": 1,
   "metadata": {},
   "outputs": [],
   "source": [
    "class University:\n",
    "    # constructor\n",
    "    def __init__(self, name, city, student_num = -1):\n",
    "        self.name = name\n",
    "        self.city = city\n",
    "        self.student_num = student_num\n",
    "    # method\n",
    "    def get_name(self):\n",
    "        return self.name\n",
    "    def set_student_num(self, num):\n",
    "        self.student_num = num\n",
    "    def get_student_num(self):\n",
    "        if self.student_num != -1:\n",
    "            return self.student_num\n",
    "        else:\n",
    "            print(\"Student number is unavailable\")\n",
    "            return None"
   ]
  },
  {
   "cell_type": "markdown",
   "metadata": {},
   "source": [
    "In this example, we define a class called University. In this class, there two data members, which are \n",
    "- <code>self.name</code>\n",
    "- <code>self.city</code>\n",
    "\n",
    "There are three method members, which are\n",
    "- <code>__ init__</code>\n",
    "- <code>get_name</code>\n",
    "- <code>get_student_num</code>\n",
    "\n",
    "We could see from these three methods that the first input argument is always self. This is because when running member methods the member data are always available for use.\n",
    "\n",
    "<code>__ init__</code> method, which is also called constructor, is responsible for initializing a variable whose type is <code>University</code>. The instantiated variable using the class is called an **object**. For instance, running the following code initializes an object (which is similar to defining variables),\n"
   ]
  },
  {
   "cell_type": "code",
   "execution_count": 2,
   "metadata": {},
   "outputs": [],
   "source": [
    "HEU = University(\"Harbin Engineering University\", \"Harbin\")"
   ]
  },
  {
   "cell_type": "markdown",
   "metadata": {},
   "source": [
    "\n",
    "In the initialization method of the class <code>University</code>, the last input variable <code>student_num</code> is optimal, because <code>student_num=-1</code> means the input argument <code>student_num</code> is optimal. Thus, when creating HEU object, we only use two input arguments.\n",
    "\n",
    "<div class=\"alert alert-block alert-success\">\n",
    "Method members, whose name starts and ends with double underscores, are private methods that can only be used within the class.\n",
    "</div>\n",
    "\n",
    "Thus, <code>__ init__</code> method is a private method and user is forbidden to use this method via an object.\n",
    "\n",
    "Once HEU object is created, we could run methods in HEU. For instance, running\n"
   ]
  },
  {
   "cell_type": "code",
   "execution_count": 3,
   "metadata": {},
   "outputs": [
    {
     "name": "stdout",
     "output_type": "stream",
     "text": [
      "Harbin Engineering University\n"
     ]
    }
   ],
   "source": [
    "name = HEU.get_name()\n",
    "print(name)"
   ]
  },
  {
   "cell_type": "code",
   "execution_count": 4,
   "metadata": {},
   "outputs": [
    {
     "name": "stdout",
     "output_type": "stream",
     "text": [
      "<class '__main__.University'>\n"
     ]
    }
   ],
   "source": [
    "print(type(HEU))"
   ]
  },
  {
   "cell_type": "markdown",
   "metadata": {},
   "source": [
    "\n",
    ", the variable <code>name</code> is assigned \"Harbin Engineering University\".\n",
    "\n",
    "Running"
   ]
  },
  {
   "cell_type": "code",
   "execution_count": 5,
   "metadata": {},
   "outputs": [
    {
     "name": "stdout",
     "output_type": "stream",
     "text": [
      "Student number is unavailable\n",
      "None\n"
     ]
    }
   ],
   "source": [
    "num = HEU.get_student_num()\n",
    "print(num)"
   ]
  },
  {
   "cell_type": "code",
   "execution_count": 6,
   "metadata": {},
   "outputs": [
    {
     "name": "stdout",
     "output_type": "stream",
     "text": [
      "-1\n"
     ]
    }
   ],
   "source": [
    "# object\n",
    "print(HEU.student_num)"
   ]
  },
  {
   "cell_type": "markdown",
   "metadata": {},
   "source": [
    ", the variable <code>num</code> is assigned with None and \"Student number is unavailable\" is printed. It makes sense because the student number information is not set. \n",
    "\n",
    "Now let's set the student number information"
   ]
  },
  {
   "cell_type": "code",
   "execution_count": 8,
   "metadata": {},
   "outputs": [],
   "source": [
    "HEU.set_student_num(30000)"
   ]
  },
  {
   "cell_type": "markdown",
   "metadata": {},
   "source": [
    "After this, let's again run"
   ]
  },
  {
   "cell_type": "code",
   "execution_count": 9,
   "metadata": {},
   "outputs": [
    {
     "name": "stdout",
     "output_type": "stream",
     "text": [
      "30000\n"
     ]
    }
   ],
   "source": [
    "num = HEU.get_student_num()\n",
    "print(num)"
   ]
  },
  {
   "cell_type": "markdown",
   "metadata": {},
   "source": [
    "Now, we see that <code>num</code> is assigned with 30000.\n",
    "\n",
    "We could also check the data member in the HEU object. For instance"
   ]
  },
  {
   "cell_type": "code",
   "execution_count": 10,
   "metadata": {},
   "outputs": [
    {
     "name": "stdout",
     "output_type": "stream",
     "text": [
      "Harbin Engineering University\n",
      "Harbin\n"
     ]
    }
   ],
   "source": [
    "print(HEU.name)\n",
    "print(HEU.city)"
   ]
  },
  {
   "cell_type": "markdown",
   "metadata": {},
   "source": [
    "We could also get the name information by calling <code>HEU.get_name()</code>, but the two ways are different in that one is to fetch the data member and the other is to run the method.\n",
    "\n",
    "We have experience in using data members and method members. For instance, "
   ]
  },
  {
   "cell_type": "code",
   "execution_count": null,
   "metadata": {},
   "outputs": [],
   "source": [
    "import numpy as np\n",
    "x = np.array([1,3,2,5,4])\n",
    "print(x.shape)"
   ]
  },
  {
   "cell_type": "markdown",
   "metadata": {},
   "source": [
    "<code>shape</code> is a data member in <code>numpy.array</code>. We could also run"
   ]
  },
  {
   "cell_type": "code",
   "execution_count": null,
   "metadata": {},
   "outputs": [],
   "source": [
    "x.sort()\n",
    "print(x)"
   ]
  },
  {
   "cell_type": "markdown",
   "metadata": {},
   "source": [
    ". In this example, <code>sort</code> is a member method in <code>numpy.array</code> class. <code>sort</code> method sorts <code>np.array</code> member data so that there is no input argument for this method."
   ]
  },
  {
   "cell_type": "markdown",
   "metadata": {},
   "source": [
    "Programming involving classes and objects are called **Object Oriented Programming (OOP)**. Programming using conventional functions or methods is called procedural programming. OOP has advantages over procedural programming by combining methods and data together other than transferring data between methods."
   ]
  },
  {
   "cell_type": "markdown",
   "metadata": {},
   "source": [
    "## Class Inheritance##"
   ]
  },
  {
   "cell_type": "markdown",
   "metadata": {},
   "source": [
    "Inheritance mechanism enables us to define a new class by using member data and member methods in existing classes. When one class inherits from another class, the inherited class is called parent class and the class inheriting the parent class is called child class. A child class automatically has access to all of the data and methods in the parent class. You can declare new data and method members in the child class, and override data and methods of the parent class. \n",
    "\n",
    "The following is an example of inheritance."
   ]
  },
  {
   "cell_type": "code",
   "execution_count": 35,
   "metadata": {},
   "outputs": [],
   "source": [
    "class ResearchUniversity(University):\n",
    "    def __init__(self, name, city, types, student_num = -1):\n",
    "        super().__init__(name, city, student_num)\n",
    "        self.type = types\n",
    "    def set_type(self, types):\n",
    "        self.type = types\n",
    "    def get_type(self):\n",
    "        return self.type\n",
    "    def get_name(self):\n",
    "        if self.type=='research':\n",
    "            return self.name + \"(a prestigious research university)\"\n",
    "        else:\n",
    "            return self.name"
   ]
  },
  {
   "cell_type": "markdown",
   "metadata": {},
   "source": [
    "In this example, the class <code>ResearchUniversity</code> inherits the class <code>University</code>. Specifically, <code>University</code> is a parent class and <code>ResearchUniversity</code> is a child class.\n",
    "\n",
    "In the <code>__ init__</code> method, <code>super().__ init__(name, city, student_num)</code> is to initialize the parent class.\n",
    "\n",
    "<code>set_type</code> and <code>get_type</code> are new methods.\n",
    "\n",
    "<code>get_name</code> method overwrite the <code>get_name</code> method in the parent class. In other words, <code>ResearchUniversity</code> method uses the newly defined <code>get_name</code> method other than the one in the parent class.\n",
    "\n",
    "In the following, we instantiate a ReserchUniversity object. "
   ]
  },
  {
   "cell_type": "code",
   "execution_count": 36,
   "metadata": {},
   "outputs": [],
   "source": [
    "HEU = ResearchUniversity(\"Harbin Engineering University\", \"Harbin\", \"research\", 30000)"
   ]
  },
  {
   "cell_type": "markdown",
   "metadata": {},
   "source": [
    "We could use methods in the parent class. For instance"
   ]
  },
  {
   "cell_type": "code",
   "execution_count": null,
   "metadata": {},
   "outputs": [],
   "source": [
    "print(HEU.get_student_num())"
   ]
  },
  {
   "cell_type": "markdown",
   "metadata": {},
   "source": [
    "Although method <code>get_student_num</code> is not explicitly defined in the <code>ResearchUniversity</code> class, we still could call it in <code>ResearchUniversity</code> object because this method is in the parent class which is <code>University</code> class\n",
    "\n",
    "Next we call the newly defined <code>get_name</code> method"
   ]
  },
  {
   "cell_type": "code",
   "execution_count": null,
   "metadata": {},
   "outputs": [],
   "source": [
    "print(HEU.get_name())"
   ]
  },
  {
   "cell_type": "markdown",
   "metadata": {},
   "source": [
    "From the printed result, we could see that the HEU object uses the newly defined <code>get_name</code> method other than the <code>get_name</code> method in the parent class.\n",
    "\n",
    "We could still get the university name via the data members. For instance"
   ]
  },
  {
   "cell_type": "code",
   "execution_count": null,
   "metadata": {},
   "outputs": [],
   "source": [
    "print(HEU.name)"
   ]
  },
  {
   "cell_type": "markdown",
   "metadata": {},
   "source": [
    "## Using classes as data memebers ##"
   ]
  },
  {
   "cell_type": "markdown",
   "metadata": {},
   "source": [
    "Data members in a class could also be a class. For instance, we define a person class below"
   ]
  },
  {
   "cell_type": "code",
   "execution_count": 6,
   "metadata": {},
   "outputs": [],
   "source": [
    "class Person():\n",
    "    def __init__(self, name, age = None, gender = None):\n",
    "        self.name = name\n",
    "        self.age = age\n",
    "        self.gender = gender\n",
    "    def get_name(self):\n",
    "        return self.name\n",
    "    def set_name(self,name):\n",
    "        self.name = name\n",
    "    def get_age(self):\n",
    "        return self.age\n",
    "    def set_age(self,age):\n",
    "        self.age = age\n",
    "    def get_gender(self):\n",
    "        return self.gender\n",
    "    def set_gender(self,gender):\n",
    "        self.gender = gender"
   ]
  },
  {
   "cell_type": "markdown",
   "metadata": {},
   "source": [
    "Now, we create a Person object."
   ]
  },
  {
   "cell_type": "code",
   "execution_count": 7,
   "metadata": {},
   "outputs": [],
   "source": [
    "Principal = Person(\"Yao Yu\", 58, \"Male\")"
   ]
  },
  {
   "cell_type": "markdown",
   "metadata": {},
   "source": [
    "We could run the member methods of the object named Principal."
   ]
  },
  {
   "cell_type": "code",
   "execution_count": 8,
   "metadata": {},
   "outputs": [
    {
     "name": "stdout",
     "output_type": "stream",
     "text": [
      "Yao Yu 58 Male\n"
     ]
    }
   ],
   "source": [
    "print(Principal.get_name(), Principal.get_age(), Principal.get_gender())"
   ]
  },
  {
   "cell_type": "markdown",
   "metadata": {},
   "source": [
    "We could also get these information by directly fetching the data memebers."
   ]
  },
  {
   "cell_type": "code",
   "execution_count": 9,
   "metadata": {},
   "outputs": [
    {
     "name": "stdout",
     "output_type": "stream",
     "text": [
      "Yao Yu 58 Male\n"
     ]
    }
   ],
   "source": [
    "print(Principal.name, Principal.age, Principal.gender)"
   ]
  },
  {
   "cell_type": "markdown",
   "metadata": {},
   "source": [
    "Next, we redefine the ResearchUniversity class by adding <code>principal</code> data member and <code>get_principal</code>, <code>set_principal</code> method members."
   ]
  },
  {
   "cell_type": "code",
   "execution_count": 12,
   "metadata": {},
   "outputs": [],
   "source": [
    "class ResearchUniversity(University):\n",
    "    def __init__(self, name, city, types, student_num = -1):\n",
    "        super().__init__(name, city, student_num)\n",
    "        self.type = types\n",
    "    def set_type(self, types):\n",
    "        self.type = types\n",
    "    def get_type(self):\n",
    "        return self.type\n",
    "    def get_name(self):\n",
    "        if self.type=='research':\n",
    "            return self.name + \"(a prestigious research university)\"\n",
    "        else:\n",
    "            return self.name\n",
    "    def set_principal(self, principal):\n",
    "        self.principal = principal\n",
    "    def get_principal(self):\n",
    "        return self.principal"
   ]
  },
  {
   "cell_type": "markdown",
   "metadata": {},
   "source": [
    "Now, let's create a <code>ResearchUniversity</code> type object from scratch."
   ]
  },
  {
   "cell_type": "code",
   "execution_count": 13,
   "metadata": {},
   "outputs": [],
   "source": [
    "HEU = ResearchUniversity(\"Harbin Engineering University\", \"Harbin\", \"research\", 30000)"
   ]
  },
  {
   "cell_type": "markdown",
   "metadata": {},
   "source": [
    "Let's set the principal of HEU object."
   ]
  },
  {
   "cell_type": "code",
   "execution_count": 15,
   "metadata": {},
   "outputs": [],
   "source": [
    "HEU.set_principal(Principal)"
   ]
  },
  {
   "cell_type": "markdown",
   "metadata": {},
   "source": [
    "We could check the information of the principal for HEU."
   ]
  },
  {
   "cell_type": "code",
   "execution_count": 18,
   "metadata": {},
   "outputs": [
    {
     "name": "stdout",
     "output_type": "stream",
     "text": [
      "Yao Yu 58 Male\n"
     ]
    }
   ],
   "source": [
    "print(HEU.principal.get_name(), HEU.principal.get_age(), HEU.principal.get_gender())"
   ]
  },
  {
   "cell_type": "markdown",
   "metadata": {},
   "source": [
    ", where principal is the data member of HEU."
   ]
  },
  {
   "cell_type": "code",
   "execution_count": null,
   "metadata": {},
   "outputs": [],
   "source": []
  }
 ],
 "metadata": {
  "kernelspec": {
   "display_name": "Python 3",
   "language": "python",
   "name": "python3"
  },
  "language_info": {
   "codemirror_mode": {
    "name": "ipython",
    "version": 3
   },
   "file_extension": ".py",
   "mimetype": "text/x-python",
   "name": "python",
   "nbconvert_exporter": "python",
   "pygments_lexer": "ipython3",
   "version": "3.8.3"
  }
 },
 "nbformat": 4,
 "nbformat_minor": 4
}
