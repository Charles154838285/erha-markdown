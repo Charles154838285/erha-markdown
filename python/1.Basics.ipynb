{
 "cells": [
  {
   "cell_type": "markdown",
   "metadata": {},
   "source": [
    "# Python Basics #"
   ]
  },
  {
   "cell_type": "markdown",
   "metadata": {},
   "source": [
    "> **Variable and function naming conventions**\n",
    ">\n",
    "> - Check [this link](https://www.crained.com/1316/best-practices-for-naming-variables-in-python/) for naming conventions.\n",
    ">\n",
    "> - Do not use keywords and built-in function names.\n",
    ">\n",
    "> - Names should be short, concise and meaningful. For instance, using a, b, c as variable names is not encouraged.\n",
    ">\n",
    "> - For-loop and if-statement are involed. Check online or books for their usage.\n"
   ]
  },
  {
   "cell_type": "code",
   "execution_count": 1,
   "metadata": {},
   "outputs": [],
   "source": [
    "import numpy as np\n",
    "from typing import *"
   ]
  },
  {
   "cell_type": "markdown",
   "metadata": {},
   "source": [
    "**Question 1**: Given two numbers, calculate the maximum and minimum values."
   ]
  },
  {
   "cell_type": "code",
   "execution_count": 5,
   "metadata": {},
   "outputs": [],
   "source": [
    "def max_min(a: float, b: float) -> Tuple:\n",
    "    ''' \n",
    "    Return the minimal and maximal numbers\n",
    "        Parameters:\n",
    "            a is a float number.\n",
    "            b is a float number.\n",
    "        Returns: \n",
    "            returned value is a tuple containing two elements which are maximum and minimum values, respectively.\n",
    "    '''\n",
    "    if a>b:\n",
    "        maxing = a\n",
    "        minning = b\n",
    "    else:\n",
    "        maxing = b\n",
    "        minning = a\n",
    "    return (maxing, minning)"
   ]
  },
  {
   "cell_type": "code",
   "execution_count": 6,
   "metadata": {},
   "outputs": [
    {
     "name": "stdout",
     "output_type": "stream",
     "text": [
      "3 5\n"
     ]
    }
   ],
   "source": [
    "a, b = max_min(3,5)\n",
    "print(a,b)"
   ]
  },
  {
   "cell_type": "code",
   "execution_count": 7,
   "metadata": {},
   "outputs": [
    {
     "ename": "AssertionError",
     "evalue": "max_min(5, 8) fails.",
     "output_type": "error",
     "traceback": [
      "\u001b[1;31m---------------------------------------------------------------------------\u001b[0m",
      "\u001b[1;31mAssertionError\u001b[0m                            Traceback (most recent call last)",
      "\u001b[1;32m~\\AppData\\Local\\Temp/ipykernel_21884/3257439725.py\u001b[0m in \u001b[0;36m<module>\u001b[1;34m\u001b[0m\n\u001b[1;32m----> 1\u001b[1;33m \u001b[1;32massert\u001b[0m \u001b[0mmax_min\u001b[0m\u001b[1;33m(\u001b[0m\u001b[1;36m5\u001b[0m\u001b[1;33m,\u001b[0m \u001b[1;36m8\u001b[0m\u001b[1;33m)\u001b[0m \u001b[1;33m==\u001b[0m \u001b[1;33m(\u001b[0m\u001b[1;36m8\u001b[0m\u001b[1;33m,\u001b[0m \u001b[1;36m5\u001b[0m\u001b[1;33m)\u001b[0m\u001b[1;33m,\u001b[0m \u001b[1;34m\"max_min(5, 8) fails.\"\u001b[0m\u001b[1;33m\u001b[0m\u001b[1;33m\u001b[0m\u001b[0m\n\u001b[0m",
      "\u001b[1;31mAssertionError\u001b[0m: max_min(5, 8) fails."
     ]
    }
   ],
   "source": [
    "assert max_min(5, 8) == (8, 5), \"max_min(5, 8) fails.\""
   ]
  },
  {
   "cell_type": "markdown",
   "metadata": {},
   "source": [
    "**Question 2**: Write a python method to print \"hello, world.\"."
   ]
  },
  {
   "cell_type": "code",
   "execution_count": 8,
   "metadata": {},
   "outputs": [],
   "source": [
    "def hello_world() -> str:\n",
    "    '''\n",
    "    Print \"hello, world.\"\n",
    "        Parameters:\n",
    "            there are no input parameters.\n",
    "        Returns:\n",
    "            a string \"hello, world.\".\n",
    "    '''\n",
    "    return \"hello, world.\""
   ]
  },
  {
   "cell_type": "code",
   "execution_count": 9,
   "metadata": {},
   "outputs": [],
   "source": [
    "assert hello_world() == 'hello, world.', \"hello_wold() fails.\""
   ]
  },
  {
   "cell_type": "markdown",
   "metadata": {},
   "source": [
    "**Question 3**: Write a python method to solve a quadratic equation $ax^2+bx+c=0$. If there are no real solutions, return the string \"there is no real solution\"."
   ]
  },
  {
   "cell_type": "code",
   "execution_count": 18,
   "metadata": {},
   "outputs": [],
   "source": [
    "def solve_eq(a: float, b: float, c: float) -> Tuple:\n",
    "    '''\n",
    "    Solve a quadratic equation a*x^2 + b*x + c = 0\n",
    "        Parameters:\n",
    "            a is a non-zero float number.\n",
    "            b is a float number\n",
    "            c is a float number\n",
    "        Returns:\n",
    "            The returned value is a tuple containing two float elements representing roots in ascending order. If there is no real root, the return is a string.\n",
    "    '''\n",
    "    delta = b**2 - 4*a*c\n",
    "    if delta < 0:\n",
    "        return \"there is no real solution\"\n",
    "    else:\n",
    "        x1 = (-b-np.sqrt(delta))/2/a\n",
    "        x2 = (-b+np.sqrt(delta))/2/a\n",
    "        return (x1, x2)"
   ]
  },
  {
   "cell_type": "code",
   "execution_count": 19,
   "metadata": {},
   "outputs": [],
   "source": [
    "assert solve_eq(1, 5, 6) == (-3, -2), \"solve_eq(1, 5, 6) fails.\"\n",
    "assert solve_eq(1, 3, 6) == \"there is no real solution\", \"solve_eq(1, 3, 6) fails.\""
   ]
  },
  {
   "cell_type": "markdown",
   "metadata": {},
   "source": [
    "**Question 4**: Write a python method to find the average of even numbers between 0 and 100."
   ]
  },
  {
   "cell_type": "code",
   "execution_count": 18,
   "metadata": {},
   "outputs": [],
   "source": [
    "def average() -> float:\n",
    "    '''\n",
    "    Compute the average of even numbers between 0 and 100.\n",
    "    Parameters:\n",
    "        There is no input parameters.\n",
    "    Returns:\n",
    "        a float number\n",
    "    '''\n",
    "    return"
   ]
  },
  {
   "cell_type": "code",
   "execution_count": 19,
   "metadata": {},
   "outputs": [],
   "source": [
    "assert average() == 50, \"average() fails.\""
   ]
  },
  {
   "cell_type": "markdown",
   "metadata": {},
   "source": [
    "**Question 5**: Write a python method to print a 9 by 9 multiplication table as follows\n",
    "\n",
    "1$*$1=1\n",
    "\n",
    "2$*$1=2    2$*$2=4    \n",
    "\n",
    "3$*$1=3    3$*$2=6    3$*$3=9    \n",
    "\n",
    "4$*$1=4    4$*$2=8    4$*$3=12    4$*$4=16    \n",
    "\n",
    "5$*$1=5    5$*$2=10    5$*$3=15    5$*$4=20    5$*$5=25\n",
    "\n",
    "6$*$1=6    6$*$2=12    6$*$3=18    6$*$4=24    6$*$5=30    6$*$6=36\n",
    "\n",
    "7$*$1=7    7$*$2=14    7$*$3=21    7$*$4=28    7$*$5=35    7$*$6=42    7$*$7=49\n",
    "\n",
    "8$*$1=8    8$*$2=16    8$*$3=24    8$*$4=32    8$*$5=40    8$*$6=48    8$*$7=56    8$*$8=64\n",
    "\n",
    "9$*$1=9    9$*$2=18    9$*$3=27    9$*$4=36    9$*$5=45    9$*$6=54    9$*$7=63    9$*$8=72    9$*$9=81    "
   ]
  },
  {
   "cell_type": "code",
   "execution_count": 32,
   "metadata": {},
   "outputs": [],
   "source": [
    "def printMultiTable():\n",
    "    '''\n",
    "    print a 9 by 9 multipliation table.\n",
    "    Parameters:\n",
    "        there is input parameters.\n",
    "    Returns:\n",
    "        there is no returned value.\n",
    "    '''\n",
    "    return"
   ]
  },
  {
   "cell_type": "code",
   "execution_count": 33,
   "metadata": {},
   "outputs": [
    {
     "name": "stdout",
     "output_type": "stream",
     "text": [
      "1*1 \n",
      "2*1 2*2 \n",
      "3*1 3*2 3*3 \n",
      "4*1 4*2 4*3 4*4 \n",
      "5*1 5*2 5*3 5*4 5*5 \n",
      "6*1 6*2 6*3 6*4 6*5 6*6 \n",
      "7*1 7*2 7*3 7*4 7*5 7*6 7*7 \n",
      "8*1 8*2 8*3 8*4 8*5 8*6 8*7 8*8 \n",
      "9*1 9*2 9*3 9*4 9*5 9*6 9*7 9*8 9*9 \n"
     ]
    }
   ],
   "source": [
    "printMultiTable()"
   ]
  },
  {
   "cell_type": "markdown",
   "metadata": {},
   "source": [
    "**Question 6**: Write a python method to sort three numbers in ascendng order."
   ]
  },
  {
   "cell_type": "code",
   "execution_count": 27,
   "metadata": {},
   "outputs": [],
   "source": [
    "def my_sort(a: float, b: float, c: float) -> Tuple:\n",
    "    '''\n",
    "    Sort three numbers in ascending order.\n",
    "        Parameters:\n",
    "            a is a float number.\n",
    "            b is a float number.\n",
    "            c is a float number.\n",
    "        Returns:\n",
    "            Returned value is a tuple containing three float numbers.\n",
    "    '''\n",
    "    return"
   ]
  },
  {
   "cell_type": "code",
   "execution_count": 42,
   "metadata": {},
   "outputs": [],
   "source": [
    "assert my_sort(3, 4 ,1) == (1, 3, 4), \"my_sort(3, 4 ,1) fails.\""
   ]
  },
  {
   "cell_type": "markdown",
   "metadata": {},
   "source": [
    "**Question 7**: Write a python method to calculate the value of the probability density function (pdf) of a univariate normal distribution with given mean and standard deviation. The exoponential function is numpy.exp()."
   ]
  },
  {
   "cell_type": "code",
   "execution_count": 12,
   "metadata": {},
   "outputs": [],
   "source": [
    "def my_normal(x: float, mu: float, sigma: float) -> float:\n",
    "    '''\n",
    "    Calculate the value of a normal pdf function with given mean and standard deviation.\n",
    "        Parameters:\n",
    "            x is the value of the normal random variable.\n",
    "            mu is the population mean of the normal random variable.\n",
    "            sigma is the standard deviation of the normal random variable.\n",
    "        Returns:\n",
    "            output is the value of the pdf for the given x. Two decimal places are required.\n",
    "    '''\n",
    "    return"
   ]
  },
  {
   "cell_type": "code",
   "execution_count": 15,
   "metadata": {},
   "outputs": [],
   "source": [
    "assert my_normal(0, 0, 1) == 0.4, \"my_normal(0, 0, 1) fails.\""
   ]
  },
  {
   "cell_type": "markdown",
   "metadata": {},
   "source": [
    "**Question 8**: Write a python method to calculate the sum of the first 20 items of following series:\n",
    "\n",
    "2/1, 3/2, 5/3, 8/5 ...\n",
    "\n",
    "Round the result to two decimal points."
   ]
  },
  {
   "cell_type": "code",
   "execution_count": 48,
   "metadata": {},
   "outputs": [],
   "source": [
    "def sum_series() -> float:\n",
    "    '''\n",
    "    Compute sum of a series.\n",
    "            Parameters:\n",
    "                there are no input parameters.\n",
    "            Returns:\n",
    "                a float number with two decimal places.\n",
    "    '''\n",
    "    return"
   ]
  },
  {
   "cell_type": "code",
   "execution_count": 49,
   "metadata": {},
   "outputs": [],
   "source": [
    "assert sum_series() == 32.66, \"sum_series() fails.\""
   ]
  },
  {
   "cell_type": "markdown",
   "metadata": {},
   "source": [
    "**Question 9**: Write a python method to judge three numbers to judge whether a triangle can be formed using these numbers as edges."
   ]
  },
  {
   "cell_type": "code",
   "execution_count": 54,
   "metadata": {},
   "outputs": [],
   "source": [
    "def if_triangle(a: float, b: float, c: float):\n",
    "    '''\n",
    "    Check whether the given three numbers could form a triangle.\n",
    "        Parameters:\n",
    "            a is a float number.\n",
    "            b is a float number.\n",
    "            c is a float number.\n",
    "        Returns:\n",
    "            a boolean value.\n",
    "    '''\n",
    "    return"
   ]
  },
  {
   "cell_type": "code",
   "execution_count": 55,
   "metadata": {},
   "outputs": [],
   "source": [
    "assert if_triangle(3, 4, 5) == True, \"if_triangle(3, 4, 5) fails.\"\n",
    "assert if_triangle(7, 4, 3) == False, \"if_triangle(3, 4, 5) fails.\""
   ]
  },
  {
   "cell_type": "markdown",
   "metadata": {},
   "source": [
    "**Question 10**: compute the factorial of a given non-negative integer. Note that factorial of zero is one."
   ]
  },
  {
   "cell_type": "code",
   "execution_count": 64,
   "metadata": {},
   "outputs": [],
   "source": [
    "def factorial(n: int) -> int:\n",
    "    '''\n",
    "    Compute factorial of n.\n",
    "        Parameters:\n",
    "            n is an non-negative integer.\n",
    "        Returns:\n",
    "            a positive integer\n",
    "    '''\n",
    "    return"
   ]
  },
  {
   "cell_type": "code",
   "execution_count": null,
   "metadata": {},
   "outputs": [],
   "source": [
    "assert factorial(0) == 1, \"factorial(0) fails.\"\n",
    "assert factorial(5) == 120, \"factorial(120) fails.\""
   ]
  },
  {
   "cell_type": "markdown",
   "metadata": {},
   "source": [
    "**Question 11**: Fibonacci number is defined as $f(n) = f(n-1) + f(n-2)$, where $f(n)$ is the $n$th Fibonacci number. The initial value is $f(0)=f(1)=1$. Write a python method to compute the $n$th Fibonacci number."
   ]
  },
  {
   "cell_type": "code",
   "execution_count": 68,
   "metadata": {},
   "outputs": [],
   "source": [
    "def Fibonacci(n: int) -> int:\n",
    "    '''\n",
    "    Compute Fibonacci number.\n",
    "        Parameters:\n",
    "            n is a non-negative integer.\n",
    "        Returns:\n",
    "            a positive integer.\n",
    "    \n",
    "    '''\n",
    "    return"
   ]
  },
  {
   "cell_type": "code",
   "execution_count": 69,
   "metadata": {},
   "outputs": [],
   "source": [
    "assert Fibonacci(0) == 1, \"Fibonacci(0) fails.\"\n",
    "assert Fibonacci(5) == 8, \"Fibonacci(5) fails.\""
   ]
  },
  {
   "cell_type": "markdown",
   "metadata": {},
   "source": [
    "**Question 12**: find the floor of the square root of a given integer without computing the square root. Floor of a value is defined as the largest integer that is smaller than the value."
   ]
  },
  {
   "cell_type": "code",
   "execution_count": null,
   "metadata": {},
   "outputs": [],
   "source": [
    "def floor_root(n: int) -> int:\n",
    "    '''\n",
    "    Compute the floor of the square root of n without using np.sqrt() or math.sqrt() methods.\n",
    "        Parameters:\n",
    "            n is a positive integer.\n",
    "        Returns:\n",
    "            a positive integer.\n",
    "    '''\n",
    "    return"
   ]
  },
  {
   "cell_type": "code",
   "execution_count": null,
   "metadata": {},
   "outputs": [],
   "source": [
    "assert floor_root(2) == 1, \"floor_root(2) fails.\"\n",
    "assert floor_root(5) == 2, \"floor_root(5) fails.\""
   ]
  },
  {
   "cell_type": "markdown",
   "metadata": {},
   "source": [
    "**Question 13**: write a python method to calculate the sum of squares of all integers that are no greater than the given one."
   ]
  },
  {
   "cell_type": "code",
   "execution_count": null,
   "metadata": {},
   "outputs": [],
   "source": [
    "def sum_square(n: int) -> int:\n",
    "    '''\n",
    "    Comppute the sum of squares of all integers that are no greater than n.\n",
    "        Parameters:\n",
    "            n is a positive integer.\n",
    "        Returns:\n",
    "            a positive integer.\n",
    "    '''\n",
    "    return"
   ]
  },
  {
   "cell_type": "code",
   "execution_count": null,
   "metadata": {},
   "outputs": [],
   "source": [
    "assert sum_square(2) == 5, \"sum_square(2) fails.\"\n",
    "assert sum_square(3) == 14, \"sum_square(3) fails.\""
   ]
  },
  {
   "cell_type": "markdown",
   "metadata": {},
   "source": [
    "**Question 14**: write a python method to check whether a given integer is a prime number or not."
   ]
  },
  {
   "cell_type": "code",
   "execution_count": null,
   "metadata": {},
   "outputs": [],
   "source": [
    "def check_prime(n: int) -> bool:\n",
    "    '''\n",
    "    Check whether n is prime or not.\n",
    "        Parameters:\n",
    "            n is a positive integer.\n",
    "        Returns:\n",
    "            a boolean value.\n",
    "    '''\n",
    "    return"
   ]
  },
  {
   "cell_type": "code",
   "execution_count": null,
   "metadata": {},
   "outputs": [],
   "source": [
    "assert check_prime(2) == True, \"check_prime(2) fails.\"\n",
    "assert check_prime(6) == False, \"check_prime(6) fails.\""
   ]
  },
  {
   "cell_type": "markdown",
   "metadata": {},
   "source": [
    "**Question 15**: write a python method to check whether the first input integer is a multiple of the second one."
   ]
  },
  {
   "cell_type": "code",
   "execution_count": null,
   "metadata": {},
   "outputs": [],
   "source": [
    "def check_multiple(n: int, m: int) -> bool:\n",
    "    '''\n",
    "    Check whether n is a multiplication of m.\n",
    "        Parameters:\n",
    "            n is an integer.\n",
    "            m is an integer.\n",
    "        Returns:\n",
    "            a boolean value.\n",
    "    '''\n",
    "    return"
   ]
  },
  {
   "cell_type": "code",
   "execution_count": null,
   "metadata": {},
   "outputs": [],
   "source": [
    "assert check_multiple(4, 3) == False, \"check_multiple(4,3) fails. 4 is not a multiple of 3.\"\n",
    "assert check_multiple(6, 2) == True, \"check_multiple(6,2). 6 is a multiple of 2\""
   ]
  },
  {
   "cell_type": "markdown",
   "metadata": {},
   "source": [
    "**Question 16**: write a python method to format a float number to two decimal places. Please note that round method is forbidden to use."
   ]
  },
  {
   "cell_type": "code",
   "execution_count": null,
   "metadata": {},
   "outputs": [],
   "source": [
    "def format_2(val: float) -> float:\n",
    "    '''\n",
    "    Format a float number to two decimal places.\n",
    "        Parameters:\n",
    "            var is a float number.\n",
    "        Returns:\n",
    "            a float number with two decimal places.\n",
    "    '''\n",
    "    return"
   ]
  },
  {
   "cell_type": "code",
   "execution_count": null,
   "metadata": {},
   "outputs": [],
   "source": [
    "assert format_2(3.1415) == 3.14, \"format_2(3.1415) fails.\"\n",
    "assert format_2(3.1465) == 3.15, \"format_2(3.1465) fails.\""
   ]
  },
  {
   "cell_type": "markdown",
   "metadata": {},
   "source": [
    "**Question 17**: write a python method to compute the number of digits in a given positive integer."
   ]
  },
  {
   "cell_type": "code",
   "execution_count": null,
   "metadata": {},
   "outputs": [],
   "source": [
    "def num_digits(n: int) -> int:\n",
    "    '''\n",
    "    Compute the number of digits in n.\n",
    "        Parameter:\n",
    "            n is a positive integer.\n",
    "        Returns:\n",
    "            an integer.\n",
    "    '''\n",
    "    return"
   ]
  },
  {
   "cell_type": "code",
   "execution_count": null,
   "metadata": {},
   "outputs": [],
   "source": [
    "assert num_digits(100) == 3, \"num_digits(100) == 3 fails. There are 3 digits in 100.\""
   ]
  },
  {
   "cell_type": "markdown",
   "metadata": {},
   "source": [
    "**Question 18**: write a python method to reverse digits of a given positive integer. For instance, reversed digits of 123 are 321."
   ]
  },
  {
   "cell_type": "code",
   "execution_count": null,
   "metadata": {},
   "outputs": [],
   "source": [
    "def reverse_int(n: int) -> int:\n",
    "    '''\n",
    "    Reverse digits in n.\n",
    "        Parameters:\n",
    "            n is a positive integer.\n",
    "        Returns:\n",
    "            a positibe integer.\n",
    "    '''\n",
    "    return"
   ]
  },
  {
   "cell_type": "code",
   "execution_count": null,
   "metadata": {},
   "outputs": [],
   "source": [
    "assert reverse_int(123) == 321, \"reverse_int(123) fails. Reversed digits of 123 are 321.\"\n",
    "assert reverse_int(100) == 1, \"reverse_int(100) fails. Reversed digits of 100 are 1.\""
   ]
  },
  {
   "cell_type": "markdown",
   "metadata": {},
   "source": [
    "**Question 19**: obtaining the address of the variable $var$ in the computer."
   ]
  },
  {
   "cell_type": "code",
   "execution_count": null,
   "metadata": {},
   "outputs": [],
   "source": [
    "var = 200\n",
    "# in the following line, print the address of var by \"print(id(var))\"\n"
   ]
  },
  {
   "cell_type": "markdown",
   "metadata": {},
   "source": [
    "**Question 20**: obtaining the data type of the variable $var$."
   ]
  },
  {
   "cell_type": "code",
   "execution_count": null,
   "metadata": {},
   "outputs": [],
   "source": [
    "var = 200\n",
    "# in the following line, print the data type of var by \"print(type(var))\"\n"
   ]
  },
  {
   "cell_type": "markdown",
   "metadata": {},
   "source": [
    "**Question 21**: in python, $\\text{print(var, end=',')}$ prints var followed by a comma. You could customize the ending following the printed variables. Write a python method to print the two given variable seperated by comma."
   ]
  },
  {
   "cell_type": "code",
   "execution_count": 1,
   "metadata": {},
   "outputs": [],
   "source": [
    "def printing(var1, var2):\n",
    "    '''\n",
    "    Print var1 and var2 seperated by a comma.\n",
    "        Parameters:\n",
    "            var1 is a string or a numerical value.\n",
    "            var2 is a string or a numerical value.\n",
    "        Returns:\n",
    "            There is no returned value.\n",
    "    '''"
   ]
  },
  {
   "cell_type": "code",
   "execution_count": null,
   "metadata": {},
   "outputs": [],
   "source": [
    "var1 = 'this is the first sentence'\n",
    "var2 = 'this is the second one'\n",
    "printing(var1, var2)"
   ]
  }
 ],
 "metadata": {
  "kernelspec": {
   "display_name": "Python 3",
   "language": "python",
   "name": "python3"
  },
  "language_info": {
   "codemirror_mode": {
    "name": "ipython",
    "version": 3
   },
   "file_extension": ".py",
   "mimetype": "text/x-python",
   "name": "python",
   "nbconvert_exporter": "python",
   "pygments_lexer": "ipython3",
   "version": "3.8.3"
  }
 },
 "nbformat": 4,
 "nbformat_minor": 4
}
