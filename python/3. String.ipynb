{
 "cells": [
  {
   "cell_type": "markdown",
   "metadata": {},
   "source": [
    "# String #"
   ]
  },
  {
   "cell_type": "markdown",
   "metadata": {},
   "source": [
    "> **Variable and function naming conventions**\n",
    ">\n",
    "> - Check [this link](https://www.crained.com/1316/best-practices-for-naming-variables-in-python/) for naming conventions.\n",
    ">\n",
    "> - Do not use keywords and built-in function names.\n",
    ">\n",
    "> - Names should be short, concise and meaningful. For instance, using a, b, c as variable names is not encouraged."
   ]
  },
  {
   "cell_type": "code",
   "execution_count": 2,
   "metadata": {},
   "outputs": [],
   "source": [
    "from string import *\n",
    "from typing import *"
   ]
  },
  {
   "cell_type": "markdown",
   "metadata": {},
   "source": [
    "**Question 1**: write a python method counting number of English letters in the given string."
   ]
  },
  {
   "cell_type": "code",
   "execution_count": null,
   "metadata": {},
   "outputs": [],
   "source": [
    "def count_letter(string: str) -> int:\n",
    "    '''\n",
    "    Count the number of English letters in string.\n",
    "        Parameters:\n",
    "            string is a string\n",
    "        Returns:\n",
    "            an integer.\n",
    "    '''\n",
    "    return"
   ]
  },
  {
   "cell_type": "code",
   "execution_count": null,
   "metadata": {},
   "outputs": [],
   "source": [
    "assert count_letter(\"non-negative\") == 11, \"count_letter('non-negative') fails.\""
   ]
  },
  {
   "cell_type": "markdown",
   "metadata": {},
   "source": [
    "**Question 2**: write a python method to reverse the string and split into two strings"
   ]
  },
  {
   "cell_type": "code",
   "execution_count": null,
   "metadata": {},
   "outputs": [],
   "source": [
    "def reverse_str(string: str) -> list:\n",
    "    '''\n",
    "    Reverse the string and split it into two strings by comma\n",
    "        Paramaters:\n",
    "            string is a string variable\n",
    "        Returns: \n",
    "            a list containing two strings\n",
    "    >>> reverse_str('hello,world')\n",
    "    ['dlrow', 'olleh']\n",
    "    '''\n",
    "    return"
   ]
  },
  {
   "cell_type": "code",
   "execution_count": null,
   "metadata": {},
   "outputs": [],
   "source": [
    "assert reverse_str('hello,world') == ['dlrow', 'olleh'], \"reverse_str('hello,world') fails.\""
   ]
  },
  {
   "cell_type": "markdown",
   "metadata": {},
   "source": [
    "**Question 3**: Write a python method to count the total of alphabet, digit and character in the input string. Python has built-in string validation methods for basic data.Checking if a string is composed of alphabetical characters is .isalpha() and digits is .isdigit()."
   ]
  },
  {
   "cell_type": "code",
   "execution_count": null,
   "metadata": {},
   "outputs": [],
   "source": [
    "def count(string: str) -> list:\n",
    "    '''\n",
    "    Count the total of alphabet, digit and character in the input string\n",
    "        Paramaters:\n",
    "            string is a string variable\n",
    "        Returns: \n",
    "            a list with three integers representing total numbers of alphabet, digit and character, respectively.\n",
    "    >>> count('hello name 12138')\n",
    "    [9, 5, 2]\n",
    "    '''\n",
    "    return"
   ]
  },
  {
   "cell_type": "code",
   "execution_count": null,
   "metadata": {},
   "outputs": [],
   "source": [
    "assert count('hello name 12138') == [9, 5, 2],\"count('hello name 12138') fails.\""
   ]
  },
  {
   "cell_type": "markdown",
   "metadata": {},
   "source": [
    "**Question 4**: write a python method to convert all lowercase letters to uppercase letters and vice versa. Function lower() returns a lowercase version of the string. Fuction upper() eturns a uppercase version of the string"
   ]
  },
  {
   "cell_type": "code",
   "execution_count": null,
   "metadata": {},
   "outputs": [],
   "source": [
    "def swap_case(string: str) ->str:\n",
    "    '''\n",
    "    Complete the swap the cases\n",
    "        Paramater:\n",
    "            string: the string to modify\n",
    "        Returns: \n",
    "            string: the modified string\n",
    "    >>>swap_case(\"www.HELLO world.CoM\")\n",
    "    WWW.hello WORLD.cOm\n",
    "    '''\n",
    "    return"
   ]
  },
  {
   "cell_type": "code",
   "execution_count": null,
   "metadata": {},
   "outputs": [],
   "source": [
    "assert swap_case(\"www.HELLO world.CoM\") == \"WW.hello WORLD.cOm\", \"swap_case fails.\""
   ]
  },
  {
   "cell_type": "markdown",
   "metadata": {},
   "source": [
    "**Question 5**: write a python method to print the number of time that the substring occurs in the given string."
   ]
  },
  {
   "cell_type": "code",
   "execution_count": null,
   "metadata": {},
   "outputs": [],
   "source": [
    "def count_sub_str(string: str, sub_string: str) -> int:\n",
    "    '''\n",
    "    Print the number of times that the substring occurs in the given string.\n",
    "        Paramaters:\n",
    "            string: the long inputed str.\n",
    "            sub_string: substring of the original str\n",
    "        Returns: \n",
    "            the number of times that the substring occurs in the given string\n",
    "    >>>count_sub_str('abcABCABCCAB','AB')\n",
    "    3\n",
    "    '''\n",
    "    return"
   ]
  },
  {
   "cell_type": "code",
   "execution_count": null,
   "metadata": {},
   "outputs": [],
   "source": [
    "assert count_sub_str('abcABCABCCAB') == 3,'count_sub_str fails.'"
   ]
  },
  {
   "cell_type": "markdown",
   "metadata": {},
   "source": [
    "**Question 6**: write a python method to wrap the string into a paragraph with each line of given length."
   ]
  },
  {
   "cell_type": "code",
   "execution_count": null,
   "metadata": {},
   "outputs": [],
   "source": [
    "def wrap_str(string: str, width: int) -> str:\n",
    "    '''\n",
    "    Complete the wrap function in the editor below\n",
    "        Paramaters:\n",
    "            string is a string variable\n",
    "            width is the width to wrap to \n",
    "        Returns: \n",
    "            a single string with newline characters'\\n'.\n",
    "    >>>wrap_str('ABCDEFGHIJKLMN', 5)\n",
    "    ABCDE\n",
    "    FGHIJ\n",
    "    KLMN\n",
    "    '''\n",
    "    return"
   ]
  },
  {
   "cell_type": "code",
   "execution_count": null,
   "metadata": {},
   "outputs": [],
   "source": [
    "assert wrap_str('ABCDEFGHIJKLMN', 5) == \"ABCDE\\nFGHIJ\\nKLMN\", \"wrap_str fails.\""
   ]
  },
  {
   "cell_type": "markdown",
   "metadata": {},
   "source": [
    "**Question 7**: write a python method to split the string on a given character and join the splitted string using another given charater."
   ]
  },
  {
   "cell_type": "code",
   "execution_count": 94,
   "metadata": {},
   "outputs": [],
   "source": [
    "def split_join_str(string:str, char1:str, char2:str) -> str:\n",
    "    '''\n",
    "    Complete the split and join fuction in the editor below\n",
    "        Paramaters:\n",
    "            string is a string variable\n",
    "            char1 is a string based on which the string is to split on\n",
    "            char2 is a string to join the splitted string\n",
    "        Returns:\n",
    "            a string\n",
    "    >>>split_join_str('hello,world', ',', '/')\n",
    "    hello/world\n",
    "    '''\n",
    "    return"
   ]
  },
  {
   "cell_type": "code",
   "execution_count": 95,
   "metadata": {},
   "outputs": [],
   "source": [
    "assert split_join_str('hello,world', ',', '/') == 'hello/world'"
   ]
  },
  {
   "cell_type": "markdown",
   "metadata": {},
   "source": [
    "**Question 8**: write a python method to change the value in the middle of the string"
   ]
  },
  {
   "cell_type": "code",
   "execution_count": 44,
   "metadata": {},
   "outputs": [],
   "source": [
    "def change_str(string:str,char:str) -> str:\n",
    "    '''\n",
    "    Change the value in the middle of the string\n",
    "        Paramaters:\n",
    "            string: a any str\n",
    "            value: a any alphabet\n",
    "        Returns: \n",
    "            the changed str\n",
    "    >>>change_str('hello,world',' ')\n",
    "    hello world\n",
    "    '''\n",
    "    return"
   ]
  },
  {
   "cell_type": "code",
   "execution_count": 45,
   "metadata": {},
   "outputs": [],
   "source": [
    "assert change_str('hello,world',' ') == 'hello world','change_str fails.'"
   ]
  },
  {
   "cell_type": "markdown",
   "metadata": {},
   "source": [
    "**Question 9**: write a python method to print your name and age."
   ]
  },
  {
   "cell_type": "code",
   "execution_count": 102,
   "metadata": {},
   "outputs": [],
   "source": [
    "def print_name_age(name:str, age:float) -> str:\n",
    "    '''\n",
    "    Complete the print_name_age function in the editor below.And age needs to be kept to one decimal place\n",
    "        Paramaters:\n",
    "            name: your name\n",
    "            age: your age\n",
    "        Returns: \n",
    "            str: \"Hello 'name'! You just delved into python in 'age' years old\"\n",
    "    >>>print_name_age('curry',22)\n",
    "    Hello curry! You just delved into python in 22.0 years old\n",
    "    '''\n",
    "    return"
   ]
  },
  {
   "cell_type": "code",
   "execution_count": null,
   "metadata": {},
   "outputs": [],
   "source": [
    "assert print_name_age('curry',22) == 'Hello curry! You just delved into python in 22.0 years old','print_name_age fails'"
   ]
  },
  {
   "cell_type": "markdown",
   "metadata": {},
   "source": [
    "**Question 10**: write a python method to convert an integer into English words. The input integer is no greater than one billion. For instance, when input is 123, the output is a string \"one hundred twenty three\"."
   ]
  },
  {
   "cell_type": "code",
   "execution_count": null,
   "metadata": {},
   "outputs": [],
   "source": [
    "def covert_int(n: int) -> str:\n",
    "    '''\n",
    "    Convert an integer into English words.\n",
    "        Parameters:\n",
    "            n is an integer.\n",
    "        Returns:\n",
    "            a string.\n",
    "    '''\n",
    "    return"
   ]
  },
  {
   "cell_type": "code",
   "execution_count": null,
   "metadata": {},
   "outputs": [],
   "source": [
    "assert covert_int(123) == \"one hundred twenty three\", \"convert_int fails.\""
   ]
  },
  {
   "cell_type": "markdown",
   "metadata": {},
   "source": [
    "**Question 11**: write a Python program to strip a set of characters from a string. For instance, if strip \"aeiou\" from \"the quick brown fox jumps over the lazy dog.\", the returned string is \"Th qck brwn fx jmps vr th lzy dg.\"."
   ]
  },
  {
   "cell_type": "code",
   "execution_count": null,
   "metadata": {},
   "outputs": [],
   "source": [
    "def strip_string(string: str, chars: str) -> str:\n",
    "    '''\n",
    "    Strip a set of characters from a string.\n",
    "        Parameters:\n",
    "            string is the string to strip.\n",
    "            chars is a string containing all characters.\n",
    "        Returns:\n",
    "            a string.\n",
    "    \n",
    "    '''\n",
    "    return"
   ]
  },
  {
   "cell_type": "code",
   "execution_count": null,
   "metadata": {},
   "outputs": [],
   "source": [
    "assert strip_string(\"the quick brown fox jumps over the lazy dog.\")==\"Th qck brwn fx jmps vr th lzy dg.\", \"strip_string fails.\""
   ]
  },
  {
   "cell_type": "markdown",
   "metadata": {},
   "source": [
    "**Question 12**: write a python method to extract numbers in a string."
   ]
  },
  {
   "cell_type": "code",
   "execution_count": null,
   "metadata": {},
   "outputs": [],
   "source": [
    "def extract_num(string: str) -> list:\n",
    "    '''\n",
    "    Extract all numbers in a string.\n",
    "        Parameters:\n",
    "            string is a string variable.\n",
    "        Returns:\n",
    "            a list of strings.\n",
    "    '''\n",
    "    return"
   ]
  },
  {
   "cell_type": "code",
   "execution_count": null,
   "metadata": {},
   "outputs": [],
   "source": [
    "assert extract_num(\"I am 23 years old and I have 3 kids\")==['23', '3'], \"extract_num fails.\""
   ]
  },
  {
   "cell_type": "markdown",
   "metadata": {},
   "source": [
    "**Question 13**: write a python method to remove the duplicated words in a string."
   ]
  },
  {
   "cell_type": "code",
   "execution_count": null,
   "metadata": {},
   "outputs": [],
   "source": [
    "def remove_duplicate(string: str) -> str:\n",
    "    '''\n",
    "    Remove duplicated words in a string.\n",
    "        Parameters:\n",
    "            string is a string variable.\n",
    "        Returns:\n",
    "            a string.\n",
    "    '''\n",
    "    return"
   ]
  },
  {
   "cell_type": "code",
   "execution_count": null,
   "metadata": {},
   "outputs": [],
   "source": [
    "assert remove_dupliate(\"This is is an apple apple\")==\"This is an apple\", \"remove_duplicate fails.\""
   ]
  },
  {
   "cell_type": "markdown",
   "metadata": {},
   "source": [
    "**Question 14**: write a python method to convert a float number to string and keep two decimal places."
   ]
  },
  {
   "cell_type": "code",
   "execution_count": null,
   "metadata": {},
   "outputs": [],
   "source": [
    "def convert_string(var:float)->str:\n",
    "    '''\n",
    "    Convert a float number to a string keeping two decimal places.\n",
    "        Parameters:\n",
    "            var is a float number.\n",
    "        Returns:\n",
    "            a string\n",
    "    '''\n",
    "    return"
   ]
  },
  {
   "cell_type": "code",
   "execution_count": null,
   "metadata": {},
   "outputs": [],
   "source": [
    "assert convert_string(3.1415926) == \"3.14\" \"convert_string fails.\""
   ]
  }
 ],
 "metadata": {
  "kernelspec": {
   "display_name": "Python 3",
   "language": "python",
   "name": "python3"
  },
  "language_info": {
   "codemirror_mode": {
    "name": "ipython",
    "version": 3
   },
   "file_extension": ".py",
   "mimetype": "text/x-python",
   "name": "python",
   "nbconvert_exporter": "python",
   "pygments_lexer": "ipython3",
   "version": "3.8.3"
  }
 },
 "nbformat": 4,
 "nbformat_minor": 4
}
